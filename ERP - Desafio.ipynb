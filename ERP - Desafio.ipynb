{
 "cells": [
  {
   "cell_type": "code",
   "execution_count": 0,
   "metadata": {
    "application/vnd.databricks.v1+cell": {
     "cellMetadata": {
      "byteLimit": 2048000,
      "rowLimit": 10000
     },
     "inputWidgets": {},
     "nuid": "40fab03f-86ad-4bde-aa03-eebe4227b769",
     "showTitle": false,
     "title": ""
    }
   },
   "outputs": [],
   "source": [
    "import pyspark\n",
    "#from pyspark.sql.types import StructType,StructField, StringType, IntegerType, FloatType\n",
    "#from pyspark.sql import SparkSession, functions as F\n",
    "#from pyspark.sql.functions import regexp_replace\n",
    "#from pyspark import SparkContext, SparkConf"
   ]
  },
  {
   "cell_type": "code",
   "execution_count": 0,
   "metadata": {
    "application/vnd.databricks.v1+cell": {
     "cellMetadata": {
      "byteLimit": 2048000,
      "rowLimit": 10000
     },
     "inputWidgets": {},
     "nuid": "1e50ad56-9393-4b2c-b41d-391bc65f7f18",
     "showTitle": false,
     "title": ""
    }
   },
   "outputs": [],
   "source": [
    "#Inicialização de variáveis\n",
    "spark = SparkSession.builder.appName(\"ERPSpark\").getOrCreate()\n",
    "\n",
    "dict_table_key = {'customers': ['customer_number'], \n",
    "                  'employees': ['employee_number'], \n",
    "                  'offices': ['office_code'], \n",
    "                  'orderdetails': ['order_line_number', 'order_number'], \n",
    "                  'orders': ['order_number'], \n",
    "                  'payments': ['check_number'], \n",
    "                  'product_lines': ['product_line'], \n",
    "                  'products': ['product_code']}\n",
    "\n",
    "driver = \"org.postgresql.Driver\"\n",
    "\n",
    "database_host = \"psql-mock-database-cloud.postgres.database.azure.com\"\n",
    "database_port = \"5432\"\n",
    "database_name = \"ecom1692290925429vkltgmdlpclbtrmh\"\n",
    "table = \"table-name\"\n",
    "user = \"mttdnzukfyledzwzollrcydx@psql-mock-database-cloud\"\n",
    "password = \"anljjxxmzjlpbtvkvegkwnyt\"\n",
    "\n",
    "url = f\"jdbc:postgresql://{database_host}:{database_port}/{database_name}\"                  "
   ]
  },
  {
   "cell_type": "code",
   "execution_count": 0,
   "metadata": {
    "application/vnd.databricks.v1+cell": {
     "cellMetadata": {
      "byteLimit": 2048000,
      "rowLimit": 10000
     },
     "inputWidgets": {},
     "nuid": "705de7ae-3b10-4cf0-a1df-00382aa0a57f",
     "showTitle": false,
     "title": ""
    }
   },
   "outputs": [],
   "source": [
    "# Salvar cada tabela como parquet\n",
    "for table in dict_table_key.keys():\n",
    "    df = (spark.read\n",
    "            .format(\"jdbc\")\n",
    "            .option(\"driver\", driver)\n",
    "            .option(\"url\", url)\n",
    "            .option(\"dbtable\", table)\n",
    "            .option(\"user\", user)\n",
    "            .option(\"password\", password)\n",
    "            .load()\n",
    "         )\n",
    "    \n",
    "    df.write.mode(\"overwrite\").parquet(\"/parquet/\" + table + \".parquet\")\n",
    "\n",
    "#parDF1=spark.read.parquet(\"/parquet/product_lines.parquet\")\n",
    "#parDF1.show()"
   ]
  },
  {
   "cell_type": "code",
   "execution_count": 0,
   "metadata": {
    "application/vnd.databricks.v1+cell": {
     "cellMetadata": {
      "byteLimit": 2048000,
      "rowLimit": 10000
     },
     "inputWidgets": {},
     "nuid": "a024fd61-ec6d-4dd4-a57d-9b31bf0c26b6",
     "showTitle": false,
     "title": ""
    }
   },
   "outputs": [],
   "source": [
    "\n",
    "\n"
   ]
  },
  {
   "cell_type": "code",
   "execution_count": 0,
   "metadata": {
    "application/vnd.databricks.v1+cell": {
     "cellMetadata": {
      "byteLimit": 2048000,
      "rowLimit": 10000
     },
     "inputWidgets": {},
     "nuid": "652efbc9-615a-4435-b939-952f74d0b902",
     "showTitle": false,
     "title": ""
    }
   },
   "outputs": [
    {
     "output_type": "stream",
     "name": "stdout",
     "output_type": "stream",
     "text": [
      "customers\nemployees\noffices\norderdetails\norders\npayments\nproduct_lines\nproducts\n"
     ]
    }
   ],
   "source": [
    "#merge entre a tabela JDBC e os arquivos parquet, o merge deve conter a lógica de insert, update e delete.\n",
    "for table, p_key in dict_table_key.items():\n",
    "    (spark.read\n",
    "         .format(\"jdbc\")\n",
    "         .option(\"driver\", driver)\n",
    "         .option(\"url\", url)\n",
    "         .option(\"dbtable\", table)\n",
    "         .option(\"user\", user)\n",
    "         .option(\"password\", password)\n",
    "         .load()\n",
    "         .createOrReplaceTempView(table + \"_jdbc\"))\n",
    "    \n",
    "    spark.read.parquet(\"/parquet/\" + table + \".parquet\").write.format(\"delta\").mode(\"overwrite\").save(\"/tmp/delta/\" + table)\n",
    "    spark.read.load(\"/tmp/delta/\" + table).createOrReplaceTempView(table + \"_delta\")\n",
    "\n",
    "    lst_columns = spark.sql(\"select * from \" + table + \"_delta limit 1\").columns\n",
    "    str_set = ', '.join('TARGET.{0}=SOURCE.{0}'.format(c) for c in lst_columns)\n",
    "    str_columns = ', '.join(lst_columns)\n",
    "    str_key = ' AND '.join('TARGET.{0}=SOURCE.{0}'.format(c) for c in p_key)\n",
    "\n",
    "    # str_set = ''\n",
    "    # str_columns = ''\n",
    "    # for c in lst_columns:\n",
    "    #     str_set += 'TARGET.{0}=SOURCE.{0}, '.format(c)\n",
    "    #     str_columns += c + ', '\n",
    "    # str_set = str_set[:-2]\n",
    "    # str_columns = str_columns[:-2]\n",
    "\n",
    "    \n",
    "\n",
    "    sql = \"\"\"\n",
    "        MERGE INTO {0} AS TARGET\n",
    "        USING {1} AS SOURCE\n",
    "        ON {2}\n",
    "        WHEN MATCHED AND 1=1 THEN \n",
    "        UPDATE SET {3}\n",
    "        WHEN NOT MATCHED BY TARGET THEN\n",
    "        INSERT ({4})\n",
    "        VALUES ({4})\n",
    "        WHEN NOT MATCHED BY SOURCE THEN\n",
    "        DELETE\n",
    "        \"\"\".format(table + \"_delta\", table + \"_jdbc\", str_key, str_set, str_columns)\n",
    "    print(table)\n",
    "    spark.sql(sql)\n",
    "    \n",
    "\n",
    "    spark.sql(\"select * from \" + table + \"_delta\").write.mode(\"overwrite\").parquet(\"/parquet/\" + table + \".parquet\")\n"
   ]
  },
  {
   "cell_type": "code",
   "execution_count": 0,
   "metadata": {
    "application/vnd.databricks.v1+cell": {
     "cellMetadata": {
      "byteLimit": 2048000,
      "rowLimit": 10000
     },
     "inputWidgets": {},
     "nuid": "90346621-d117-4717-9ef5-caae85afa20d",
     "showTitle": false,
     "title": ""
    }
   },
   "outputs": [],
   "source": []
  },
  {
   "cell_type": "code",
   "execution_count": 0,
   "metadata": {
    "application/vnd.databricks.v1+cell": {
     "cellMetadata": {
      "byteLimit": 2048000,
      "rowLimit": 10000
     },
     "inputWidgets": {},
     "nuid": "556c146a-d253-4971-b9ab-3bb1ac790541",
     "showTitle": false,
     "title": ""
    }
   },
   "outputs": [],
   "source": [
    "# df = (spark.read\n",
    "#             .format(\"jdbc\")\n",
    "#             .option(\"driver\", driver)\n",
    "#             .option(\"url\", url)\n",
    "#             .option(\"dbtable\", \"customers\")\n",
    "#             .option(\"user\", user)\n",
    "#             .option(\"password\", password)\n",
    "#             .load()\n",
    "#          )\n",
    "\n",
    "#df.coalesce(1).write.format(\"com.databricks.spark.csv\").option(\"header\", \"true\").save(\"/Data/df.csv\")\n",
    "#df.coalesce(1).write.format(\"com.databricks.spark.csv\").option(\"header\", \"true\").save(\"dbfs:/FileStore/df/df.csv\")\n",
    "#/dbfs/FileStore/NJ/file1.txt\n",
    "#df.write.format(\"delta\").mode(\"overwrite\").save(\"/delta/diamonds\")"
   ]
  },
  {
   "cell_type": "code",
   "execution_count": 0,
   "metadata": {
    "application/vnd.databricks.v1+cell": {
     "cellMetadata": {
      "byteLimit": 2048000,
      "rowLimit": 10000
     },
     "inputWidgets": {},
     "nuid": "bf423647-7202-42b3-bb36-0c5682bb5963",
     "showTitle": false,
     "title": ""
    }
   },
   "outputs": [
    {
     "output_type": "stream",
     "name": "stdout",
     "output_type": "stream",
     "text": [
      "+---------------+-------+\n|qtde_cancelados|country|\n+---------------+-------+\n|            605|  Spain|\n+---------------+-------+\n\n"
     ]
    }
   ],
   "source": [
    "#- Qual país possui a maior quantidade de itens cancelados?\n",
    "spark.read.parquet(\"/parquet/orders.parquet\").createOrReplaceTempView(\"orders\")\n",
    "spark.read.parquet(\"/parquet/customers.parquet\").createOrReplaceTempView(\"customers\")\n",
    "spark.read.parquet(\"/parquet/orderdetails.parquet\").createOrReplaceTempView(\"orderdetails\")\n",
    "\n",
    "sql = \"\"\"\n",
    "    select sum(ord_det.quantity_ordered) qtde_cancelados, country \n",
    "      from orders ord\n",
    "inner join customers cus on cus.customer_number = ord.customer_number\n",
    "inner join orderdetails ord_det on ord_det.order_number = ord.order_number\n",
    "     where ord.status = 'Cancelled'\n",
    "  group by country\n",
    "  order by 1 desc\n",
    "     limit 1\n",
    "\"\"\"     \n",
    "\n",
    "spark.sql(sql).show()"
   ]
  },
  {
   "cell_type": "code",
   "execution_count": 0,
   "metadata": {
    "application/vnd.databricks.v1+cell": {
     "cellMetadata": {
      "byteLimit": 2048000,
      "rowLimit": 10000
     },
     "inputWidgets": {},
     "nuid": "9351d555-7b27-466a-96ed-5fb3f1d1d4ff",
     "showTitle": false,
     "title": ""
    }
   },
   "outputs": [],
   "source": [
    "#- Qual país possui a maior quantidade de itens cancelados?\n",
    "spark.read.parquet(\"/parquet/orders.parquet\").createOrReplaceTempView(\"orders\")\n",
    "spark.read.parquet(\"/parquet/customers.parquet\").createOrReplaceTempView(\"customers\")\n",
    "spark.read.parquet(\"/parquet/orderdetails.parquet\").createOrReplaceTempView(\"orderdetails\")\n",
    "\n",
    "sql = \"\"\"\n",
    "    select sum(ord_det.quantity_ordered) qtde_cancelados, country \n",
    "      from orders ord\n",
    "inner join customers cus on cus.customer_number = ord.customer_number\n",
    "inner join orderdetails ord_det on ord_det.order_number = ord.order_number\n",
    "     where ord.status = 'Cancelled'\n",
    "  group by country\n",
    "  order by 1 desc\n",
    "     limit 1\n",
    "\"\"\"     \n",
    "\n",
    "#spark.sql(sql).show()\n",
    "spark.sql(sql).write.format(\"delta\").mode(\"overwrite\").save(\"/delta/result_pais_cancelados\")"
   ]
  },
  {
   "cell_type": "code",
   "execution_count": 0,
   "metadata": {
    "application/vnd.databricks.v1+cell": {
     "cellMetadata": {
      "byteLimit": 2048000,
      "rowLimit": 10000
     },
     "inputWidgets": {},
     "nuid": "e77ed4c7-0c41-4620-a0ea-861b8171f548",
     "showTitle": false,
     "title": ""
    }
   },
   "outputs": [],
   "source": [
    "#- Qual o faturamento da linha de produto mais vendido, considere como os itens Shipped, cujo o pedido foi realizado no ano de 2005?\n",
    "spark.read.parquet(\"/parquet/product_lines.parquet\").createOrReplaceTempView(\"product_lines\")\n",
    "spark.read.parquet(\"/parquet/products.parquet\").createOrReplaceTempView(\"products\")\n",
    "spark.read.parquet(\"/parquet/orders.parquet\").createOrReplaceTempView(\"orders\")\n",
    "spark.read.parquet(\"/parquet/orderdetails.parquet\").createOrReplaceTempView(\"orderdetails\")\n",
    "\n",
    "sql = \"\"\"\n",
    "    select pl.product_line, sum(od.quantity_ordered * od.price_each) as faturamento \n",
    "      from product_lines pl\n",
    "inner join products p on p.product_line = pl.product_line\n",
    "inner join orderdetails od on od.product_code = p.product_code\n",
    "inner join orders o on o.order_number = od.order_number\n",
    "     where o.status = 'Shipped' and extract(year from o.order_date) = 2005\n",
    "group by pl.product_line\n",
    "order by 2 desc\n",
    "   limit 1\n",
    "\"\"\"     \n",
    "\n",
    "#spark.sql(sql).show()\n",
    "spark.sql(sql).write.format(\"delta\").mode(\"overwrite\").save(\"/delta/result_faturamento_produto\")"
   ]
  },
  {
   "cell_type": "code",
   "execution_count": 0,
   "metadata": {
    "application/vnd.databricks.v1+cell": {
     "cellMetadata": {
      "byteLimit": 2048000,
      "rowLimit": 10000
     },
     "inputWidgets": {},
     "nuid": "166fe543-410a-49d4-8d6a-7a60ba1c0b68",
     "showTitle": false,
     "title": ""
    }
   },
   "outputs": [],
   "source": [
    "#- Nome, sobrenome e e-mail dos vendedores do Japão, o local-part do e-mail deve estar mascarado.\n",
    "spark.read.parquet(\"/parquet/employees.parquet\").createOrReplaceTempView(\"employees\")\n",
    "spark.read.parquet(\"/parquet/offices.parquet\").createOrReplaceTempView(\"offices\")\n",
    "\n",
    "sql = \"\"\"\n",
    "    select first_name, last_name, replace(email, split_part(email, '@', 1), '########') email\n",
    "      from employees emp\n",
    "inner join offices off on off.office_code = emp.office_code\n",
    "where off.country = 'Japan'\n",
    "\"\"\"     \n",
    "\n",
    "#spark.sql(sql).show()\n",
    "spark.sql(sql).write.format(\"delta\").mode(\"overwrite\").save(\"/delta/result_vend_japao\")"
   ]
  },
  {
   "cell_type": "code",
   "execution_count": 0,
   "metadata": {
    "application/vnd.databricks.v1+cell": {
     "cellMetadata": {
      "byteLimit": 2048000,
      "rowLimit": 10000
     },
     "inputWidgets": {},
     "nuid": "46547c4c-269e-4e56-a799-9543fa226205",
     "showTitle": false,
     "title": ""
    }
   },
   "outputs": [
    {
     "output_type": "stream",
     "name": "stdout",
     "output_type": "stream",
     "text": [
      "+------------+--------------------+----------------+-------------+--------------------+--------------------+-----------------+---------+------+\n|product_code|        product_name|    product_line|product_scale|      product_vendor| product_description|quantity_in_stock|buy_price|  msrp|\n+------------+--------------------+----------------+-------------+--------------------+--------------------+-----------------+---------+------+\n|    S72_3212|          Pont Yacht|           Ships|         1:72|Unimax Art Galleries|Measures 38 inche...|              414|    33.30| 54.60|\n|    S72_1253|    Boeing X-32A JSF|          Planes|         1:72|Motor City Art Cl...|10\\\" Wingspan wit...|             4857|    32.77| 49.66|\n|   S700_4002|American Airlines...|          Planes|        1:700| Second Gear Diecast|Polished finish. ...|             8820|    36.27| 74.03|\n|   S700_3962|      The Queen Mary|           Ships|        1:700|Welly Diecast Pro...|Exact replica. Wo...|             5088|    53.63| 99.31|\n|   S700_3505|         The Titanic|           Ships|        1:700|Carousel DieCast ...|Completed model m...|             1956|    51.09|100.17|\n|   S700_3167|  F/A 18 Hornet 1/72|          Planes|         1:72|Motor City Art Cl...|10\\\" Wingspan wit...|              551|    54.40| 80.00|\n|   S700_2834|       ATA: B757-300|          Planes|        1:700|Highway 66 Mini C...|Exact replia with...|             7106|    59.33|118.65|\n|   S700_2824|     1982 Camaro Z28|    Classic Cars|         1:18|Carousel DieCast ...|Features include ...|             6934|    46.53|101.15|\n|   S700_2610|The USS Constitut...|           Ships|        1:700|   Red Start Diecast|All wood with can...|             7083|    33.97| 72.28|\n|   S700_2466|America West Airl...|          Planes|        1:700|Motor City Art Cl...|Official logos an...|             9653|    68.80| 99.72|\n|   S700_2047|          HMS Bounty|           Ships|        1:700|Unimax Art Galleries|Measures 30 inche...|             3501|    39.83| 90.52|\n|   S700_1938|       The Mayflower|           Ships|        1:700| Studio M Art Models|Measures 31 1/2 i...|              737|    43.30| 86.61|\n|   S700_1691|American Airlines...|          Planes|        1:700|     Min Lin Diecast|Exact replia with...|             5841|    51.15| 91.34|\n|   S700_1138|The Schooner Blue...|           Ships|        1:700|Autoart Studio De...|All wood with can...|             1897|    34.00| 66.67|\n|    S50_4713|  2002 Yamaha YZR M1|     Motorcycles|         1:50|Autoart Studio De...|Features rotating...|              600|    34.17| 81.36|\n|    S50_1514|1962 City of Detr...|          Trains|         1:50|Classic Metal Cre...|This streetcar is...|             1645|    37.49| 58.58|\n|    S50_1392|Diamond T620 Semi...|Trucks and Buses|         1:50|Highway 66 Mini C...|This limited edit...|             1016|    68.29|115.75|\n|    S50_1341|1930 Buick Marque...|    Vintage Cars|         1:50| Studio M Art Models|Features opening ...|             7062|    27.06| 43.64|\n|    S32_4485|1974 Ducati 350 M...|     Motorcycles|         1:32| Second Gear Diecast|This model featur...|             3341|    56.13|102.05|\n|    S32_4289|1928 Ford Phaeton...|    Vintage Cars|         1:32|Highway 66 Mini C...|This model featur...|              136|    33.02| 68.79|\n+------------+--------------------+----------------+-------------+--------------------+--------------------+-----------------+---------+------+\nonly showing top 20 rows\n\n"
     ]
    }
   ],
   "source": [
    "spark.read.parquet(\"/parquet/products.parquet\").createOrReplaceTempView(\"products_parquet\")\n",
    "\n",
    "spark.sql('select * from products_parquet order by 1 desc').show()"
   ]
  },
  {
   "cell_type": "code",
   "execution_count": 0,
   "metadata": {
    "application/vnd.databricks.v1+cell": {
     "cellMetadata": {
      "byteLimit": 2048000,
      "rowLimit": 10000
     },
     "inputWidgets": {},
     "nuid": "7c18ce87-1370-4efb-a11f-32784473a86a",
     "showTitle": false,
     "title": ""
    }
   },
   "outputs": [
    {
     "output_type": "display_data",
     "data": {
      "text/html": [
       "<style scoped>\n",
       "  .table-result-container {\n",
       "    max-height: 300px;\n",
       "    overflow: auto;\n",
       "  }\n",
       "  table, th, td {\n",
       "    border: 1px solid black;\n",
       "    border-collapse: collapse;\n",
       "  }\n",
       "  th, td {\n",
       "    padding: 5px;\n",
       "  }\n",
       "  th {\n",
       "    text-align: left;\n",
       "  }\n",
       "</style><div class='table-result-container'><table class='table-result'><thead style='background-color: white'><tr><th>product_code</th><th>product_name</th><th>product_line</th><th>product_scale</th><th>product_vendor</th><th>product_description</th><th>quantity_in_stock</th><th>buy_price</th><th>msrp</th></tr></thead><tbody><tr><td>S10_1678</td><td>1969 Harley Davidson Ultimate Chopper</td><td>Motorcycles</td><td>1:10</td><td>Min Lin Diecast</td><td>This replica features working kickstand, front suspension, gear-shift lever, footbrake lever, drive chain, wheels and steering. All parts are particularly delicate due to their precise scale and require special care and attention.</td><td>7933</td><td>48.81</td><td>95.70</td></tr><tr><td>S10_1949</td><td>Alpine Renault 1300</td><td>Classic Cars</td><td>1:10</td><td>Classic Metal Creations</td><td>Turnable front wheels; steering function; detailed interior; detailed engine; opening hood; opening trunk; opening doors; and detailed chassis.</td><td>7305</td><td>98.58</td><td>214.30</td></tr><tr><td>S10_2016</td><td>1996 Moto Guzzi 1100i</td><td>Motorcycles</td><td>1:10</td><td>Highway 66 Mini Classics</td><td>Official Moto Guzzi logos and insignias, saddle bags located on side of motorcycle, detailed engine, working steering, working suspension, two leather seats, luggage rack, dual exhaust pipes, small saddle bag located on handle bars, two-tone paint with chrome accents, superior die-cast detail , rotating wheels , working kick stand, diecast metal with plastic parts and baked enamel finish.</td><td>6625</td><td>68.99</td><td>118.94</td></tr><tr><td>S10_4698</td><td>2003 Harley-Davidson Eagle Drag Bike</td><td>Motorcycles</td><td>1:10</td><td>Red Start Diecast</td><td>Model features, official Harley Davidson logos and insignias, detachable rear wheelie bar, heavy diecast metal with resin parts, authentic multi-color tampo-printed graphics, separate engine drive belts, free-turning front fork, rotating tires and rear racing slick, certificate of authenticity, detailed engine, display stand\\r\\n, precision diecast replica, baked enamel finish, 1:10 scale model, removable fender, seat and tank cover piece for displaying the superior detail of the v-twin engine</td><td>5582</td><td>91.02</td><td>193.66</td></tr><tr><td>S10_4757</td><td>1972 Alfa Romeo GTA</td><td>Classic Cars</td><td>1:10</td><td>Motor City Art Classics</td><td>Features include: Turnable front wheels; steering function; detailed interior; detailed engine; opening hood; opening trunk; opening doors; and detailed chassis.</td><td>3252</td><td>85.68</td><td>136.00</td></tr><tr><td>S10_4962</td><td>1962 LanciaA Delta 16V</td><td>Classic Cars</td><td>1:10</td><td>Second Gear Diecast</td><td>Features include: Turnable front wheels; steering function; detailed interior; detailed engine; opening hood; opening trunk; opening doors; and detailed chassis.</td><td>6791</td><td>103.42</td><td>147.74</td></tr><tr><td>S12_1099</td><td>1968 Fods Mustang</td><td>Classic Cars</td><td>1:12</td><td>Autoart Studio Design</td><td>Hood, doors and trunk all open to reveal highly detailed interior features. Steering wheel actually turns the front wheels. Color dark green.</td><td>68</td><td>95.34</td><td>194.57</td></tr><tr><td>S12_1108</td><td>2001 Ferrari Enzo</td><td>Classic Cars</td><td>1:12</td><td>Second Gear Diecast</td><td>Turnable front wheels; steering function; detailed interior; detailed engine; opening hood; opening trunk; opening doors; and detailed chassis.</td><td>3619</td><td>95.59</td><td>207.80</td></tr><tr><td>S12_1666</td><td>1958 Setra Bus</td><td>Trucks and Buses</td><td>1:12</td><td>Welly Diecast Productions</td><td>Model features 30 windows, skylights & glare resistant glass, working steering system, original logos</td><td>1579</td><td>77.90</td><td>136.67</td></tr><tr><td>S12_2823</td><td>2002 Suzuki XREO</td><td>Motorcycles</td><td>1:12</td><td>Unimax Art Galleries</td><td>Official logos and insignias, saddle bags located on side of motorcycle, detailed engine, working steering, working suspension, two leather seats, luggage rack, dual exhaust pipes, small saddle bag located on handle bars, two-tone paint with chrome accents, superior die-cast detail , rotating wheels , working kick stand, diecast metal with plastic parts and baked enamel finish.</td><td>9997</td><td>66.27</td><td>150.62</td></tr><tr><td>S12_3148</td><td>1969 Corvair Monza</td><td>Classic Cars</td><td>1:18</td><td>Welly Diecast Productions</td><td>1:18 scale die-cast about 10\\\" long doors open, hood opens, trunk opens and wheels roll</td><td>6906</td><td>89.14</td><td>151.08</td></tr><tr><td>S12_3380</td><td>1968 Dodge Charger</td><td>Classic Cars</td><td>1:12</td><td>Welly Diecast Productions</td><td>1:12 scale model of a 1968 Dodge Charger. Hood, doors and trunk all open to reveal highly detailed interior features. Steering wheel actually turns the front wheels. Color black</td><td>9123</td><td>75.16</td><td>117.44</td></tr><tr><td>S12_3891</td><td>1960 Ford Falcon</td><td>Classic Cars</td><td>1:12</td><td>Second Gear Diecast</td><td>Turnable front wheels; steering function; detailed interior; detailed engine; opening hood; opening trunk; opening doors; and detailed chassis.</td><td>1049</td><td>80.05</td><td>173.02</td></tr><tr><td>S12_3990</td><td>1970 Plymouth Hemi Cuda</td><td>Classic Cars</td><td>1:12</td><td>Studio M Art Models</td><td>Very detailed 1970 Plymouth Cuda model in 1:12 scale. The Cuda is generally accepted as one of the fastest original muscle cars from the 1970s. This model is a reproduction of one of the orginal 652 cars built in 1970. Red color.</td><td>5663</td><td>31.92</td><td>79.80</td></tr><tr><td>S12_4473</td><td>1957 Chevy Pickup</td><td>Trucks and Buses</td><td>1:12</td><td>Exoto Designs</td><td>1:12 scale die-cast about 20\\\" long Hood opens, Rubber wheels</td><td>6125</td><td>55.70</td><td>118.50</td></tr><tr><td>S12_4675</td><td>1969 Dodge Charger</td><td>Classic Cars</td><td>1:12</td><td>Welly Diecast Productions</td><td>Detailed model of the 1969 Dodge Charger. This model includes finely detailed interior and exterior features. Painted in red and white.</td><td>7323</td><td>58.73</td><td>115.16</td></tr><tr><td>S18_1097</td><td>1940 Ford Pickup Truck</td><td>Trucks and Buses</td><td>1:18</td><td>Studio M Art Models</td><td>This model features soft rubber tires, working steering, rubber mud guards, authentic Ford logos, detailed undercarriage, opening doors and hood,  removable split rear gate, full size spare mounted in bed, detailed interior with opening glove box</td><td>2613</td><td>58.33</td><td>116.67</td></tr><tr><td>S18_1129</td><td>1993 Mazda RX-7</td><td>Classic Cars</td><td>1:18</td><td>Highway 66 Mini Classics</td><td>This model features, opening hood, opening doors, detailed engine, rear spoiler, opening trunk, working steering, tinted windows, baked enamel finish. Color red.</td><td>3975</td><td>83.51</td><td>141.54</td></tr><tr><td>S18_1342</td><td>1937 Lincoln Berline</td><td>Vintage Cars</td><td>1:18</td><td>Motor City Art Classics</td><td>Features opening engine cover, doors, trunk, and fuel filler cap. Color black</td><td>8693</td><td>60.62</td><td>102.74</td></tr><tr><td>S18_1367</td><td>1936 Mercedes-Benz 500K Special Roadster</td><td>Vintage Cars</td><td>1:18</td><td>Studio M Art Models</td><td>This 1:18 scale replica is constructed of heavy die-cast metal and has all the features of the original: working doors and rumble seat, independent spring suspension, detailed interior, working steering system, and a bifold hood that reveals an engine so accurate that it even includes the wiring. All this is topped off with a baked enamel finish. Color white.</td><td>8635</td><td>24.26</td><td>53.91</td></tr><tr><td>S18_1589</td><td>1965 Aston Martin DB5</td><td>Classic Cars</td><td>1:18</td><td>Classic Metal Creations</td><td>Die-cast model of the silver 1965 Aston Martin DB5 in silver. This model includes full wire wheels and doors that open with fully detailed passenger compartment. In 1:18 scale, this model measures approximately 10 inches/20 cm long.</td><td>9042</td><td>65.96</td><td>124.44</td></tr><tr><td>S18_1662</td><td>1980s Black Hawk Helicopter</td><td>Planes</td><td>1:18</td><td>Red Start Diecast</td><td>1:18 scale replica of actual Army's UH-60L BLACK HAWK Helicopter. 100% hand-assembled. Features rotating rotor blades, propeller blades and rubber wheels.</td><td>5330</td><td>77.27</td><td>157.69</td></tr><tr><td>S18_1749</td><td>1917 Grand Touring Sedan</td><td>Vintage Cars</td><td>1:18</td><td>Welly Diecast Productions</td><td>This 1:18 scale replica of the 1917 Grand Touring car has all the features you would expect from museum quality reproductions: all four doors and bi-fold hood opening, detailed engine and instrument panel, chrome-look trim, and tufted upholstery, all topped off with a factory baked-enamel finish.</td><td>2724</td><td>86.70</td><td>170.00</td></tr><tr><td>S18_1889</td><td>1948 Porsche 356-A Roadster</td><td>Classic Cars</td><td>1:18</td><td>Gearbox Collectibles</td><td>This precision die-cast replica features opening doors, superb detail and craftsmanship, working steering system, opening forward compartment, opening rear trunk with removable spare, 4 wheel independent spring suspension as well as factory baked enamel finish.</td><td>8826</td><td>53.90</td><td>77.00</td></tr><tr><td>S72_1253</td><td>Boeing X-32A JSF</td><td>Planes</td><td>1:72</td><td>Motor City Art Classics</td><td>10\\\" Wingspan with retractable landing gears.Comes with pilot</td><td>4857</td><td>32.77</td><td>49.66</td></tr><tr><td>S18_1984</td><td>1995 Honda Civic</td><td>Classic Cars</td><td>1:18</td><td>Min Lin Diecast</td><td>This model features, opening hood, opening doors, detailed engine, rear spoiler, opening trunk, working steering, tinted windows, baked enamel finish. Color yellow.</td><td>9772</td><td>93.89</td><td>142.25</td></tr><tr><td>S18_2238</td><td>1998 Chrysler Plymouth Prowler</td><td>Classic Cars</td><td>1:18</td><td>Gearbox Collectibles</td><td>Turnable front wheels; steering function; detailed interior; detailed engine; opening hood; opening trunk; opening doors; and detailed chassis.</td><td>4724</td><td>101.51</td><td>163.73</td></tr><tr><td>S18_2248</td><td>1911 Ford Town Car</td><td>Vintage Cars</td><td>1:18</td><td>Motor City Art Classics</td><td>Features opening hood, opening doors, opening trunk, wide white wall tires, front door arm rests, working steering system.</td><td>540</td><td>33.30</td><td>60.54</td></tr><tr><td>S18_2319</td><td>1964 Mercedes Tour Bus</td><td>Trucks and Buses</td><td>1:18</td><td>Unimax Art Galleries</td><td>Exact replica. 100+ parts. working steering system, original logos</td><td>8258</td><td>74.86</td><td>122.73</td></tr><tr><td>S18_2325</td><td>1932 Model A Ford J-Coupe</td><td>Vintage Cars</td><td>1:18</td><td>Autoart Studio Design</td><td>This model features grille-mounted chrome horn, lift-up louvered hood, fold-down rumble seat, working steering system, chrome-covered spare, opening doors, detailed and wired engine</td><td>9354</td><td>58.48</td><td>127.13</td></tr><tr><td>S18_2432</td><td>1926 Ford Fire Engine</td><td>Trucks and Buses</td><td>1:18</td><td>Carousel DieCast Legends</td><td>Gleaming red handsome appearance. Everything is here the fire hoses, ladder, axes, bells, lanterns, ready to fight any inferno.</td><td>2018</td><td>24.92</td><td>60.77</td></tr><tr><td>S18_2581</td><td>P-51-D Mustang</td><td>Planes</td><td>1:72</td><td>Gearbox Collectibles</td><td>Has retractable wheels and comes with a stand</td><td>992</td><td>49.00</td><td>84.48</td></tr><tr><td>S18_2625</td><td>1936 Harley Davidson El Knucklehead</td><td>Motorcycles</td><td>1:18</td><td>Welly Diecast Productions</td><td>Intricately detailed with chrome accents and trim, official die-struck logos and baked enamel finish.</td><td>4357</td><td>24.23</td><td>60.57</td></tr><tr><td>S18_2795</td><td>1928 Mercedes-Benz SSK</td><td>Vintage Cars</td><td>1:18</td><td>Gearbox Collectibles</td><td>This 1:18 replica features grille-mounted chrome horn, lift-up louvered hood, fold-down rumble seat, working steering system, chrome-covered spare, opening doors, detailed and wired engine. Color black.</td><td>548</td><td>72.56</td><td>168.75</td></tr><tr><td>S18_2870</td><td>1999 Indy 500 Monte Carlo SS</td><td>Classic Cars</td><td>1:18</td><td>Red Start Diecast</td><td>Features include opening and closing doors. Color: Red</td><td>8164</td><td>56.76</td><td>132.00</td></tr><tr><td>S18_2949</td><td>1913 Ford Model T Speedster</td><td>Vintage Cars</td><td>1:18</td><td>Carousel DieCast Legends</td><td>This 250 part reproduction includes moving handbrakes, clutch, throttle and foot pedals, squeezable horn, detailed wired engine, removable water, gas, and oil cans, pivoting monocle windshield, all topped with a baked enamel red finish. Each replica comes with an Owners Title and Certificate of Authenticity. Color red.</td><td>4189</td><td>60.78</td><td>101.31</td></tr><tr><td>S18_2957</td><td>1934 Ford V8 Coupe</td><td>Vintage Cars</td><td>1:18</td><td>Min Lin Diecast</td><td>Chrome Trim, Chrome Grille, Opening Hood, Opening Doors, Opening Trunk, Detailed Engine, Working Steering System</td><td>5649</td><td>34.35</td><td>62.46</td></tr><tr><td>S18_3029</td><td>1999 Yamaha Speed Boat</td><td>Ships</td><td>1:18</td><td>Min Lin Diecast</td><td>Exact replica. Wood and Metal. Many extras including rigging, long boats, pilot house, anchors, etc. Comes with three masts, all square-rigged.</td><td>4259</td><td>51.61</td><td>86.02</td></tr><tr><td>S18_3136</td><td>18th Century Vintage Horse Carriage</td><td>Vintage Cars</td><td>1:18</td><td>Red Start Diecast</td><td>Hand crafted diecast-like metal horse carriage is re-created in about 1:18 scale of antique horse carriage. This antique style metal Stagecoach is all hand-assembled with many different parts.\\r\\n\\r\\nThis collectible metal horse carriage is painted in classic Red, and features turning steering wheel and is entirely hand-finished.</td><td>5992</td><td>60.74</td><td>104.72</td></tr><tr><td>S18_3140</td><td>1903 Ford Model A</td><td>Vintage Cars</td><td>1:18</td><td>Unimax Art Galleries</td><td>Features opening trunk,  working steering system</td><td>3913</td><td>68.30</td><td>136.59</td></tr><tr><td>S18_3232</td><td>1992 Ferrari 360 Spider red</td><td>Classic Cars</td><td>1:18</td><td>Unimax Art Galleries</td><td>his replica features opening doors, superb detail and craftsmanship, working steering system, opening forward compartment, opening rear trunk with removable spare, 4 wheel independent spring suspension as well as factory baked enamel finish.</td><td>8347</td><td>77.90</td><td>169.34</td></tr><tr><td>S18_3233</td><td>1985 Toyota Supra</td><td>Classic Cars</td><td>1:18</td><td>Highway 66 Mini Classics</td><td>This model features soft rubber tires, working steering, rubber mud guards, authentic Ford logos, detailed undercarriage, opening doors and hood, removable split rear gate, full size spare mounted in bed, detailed interior with opening glove box</td><td>7733</td><td>57.01</td><td>107.57</td></tr><tr><td>S18_3259</td><td>Collectable Wooden Train</td><td>Trains</td><td>1:18</td><td>Carousel DieCast Legends</td><td>Hand crafted wooden toy train set is in about 1:18 scale, 25 inches in total length including 2 additional carts, of actual vintage train. This antique style wooden toy train model set is all hand-assembled with 100% wood.</td><td>6450</td><td>67.56</td><td>100.84</td></tr><tr><td>S18_3278</td><td>1969 Dodge Super Bee</td><td>Classic Cars</td><td>1:18</td><td>Min Lin Diecast</td><td>This replica features opening doors, superb detail and craftsmanship, working steering system, opening forward compartment, opening rear trunk with removable spare, 4 wheel independent spring suspension as well as factory baked enamel finish.</td><td>1917</td><td>49.05</td><td>80.41</td></tr><tr><td>S18_3320</td><td>1917 Maxwell Touring Car</td><td>Vintage Cars</td><td>1:18</td><td>Exoto Designs</td><td>Features Gold Trim, Full Size Spare Tire, Chrome Trim, Chrome Grille, Opening Hood, Opening Doors, Opening Trunk, Detailed Engine, Working Steering System</td><td>7913</td><td>57.54</td><td>99.21</td></tr><tr><td>S18_3482</td><td>1976 Ford Gran Torino</td><td>Classic Cars</td><td>1:18</td><td>Gearbox Collectibles</td><td>Highly detailed 1976 Ford Gran Torino \\\"Starsky and Hutch\\\" diecast model. Very well constructed and painted in red and white patterns.</td><td>9127</td><td>73.49</td><td>146.99</td></tr><tr><td>S18_3685</td><td>1948 Porsche Type 356 Roadster</td><td>Classic Cars</td><td>1:18</td><td>Gearbox Collectibles</td><td>This model features working front and rear suspension on accurately replicated and actuating shock absorbers as well as opening engine cover, rear stabilizer flap,  and 4 opening doors.</td><td>8990</td><td>62.16</td><td>141.28</td></tr><tr><td>S18_3782</td><td>1957 Vespa GS150</td><td>Motorcycles</td><td>1:18</td><td>Studio M Art Models</td><td>Features rotating wheels , working kick stand. Comes with stand.</td><td>7689</td><td>32.95</td><td>62.17</td></tr><tr><td>S18_3856</td><td>1941 Chevrolet Special Deluxe Cabriolet</td><td>Vintage Cars</td><td>1:18</td><td>Exoto Designs</td><td>Features opening hood, opening doors, opening trunk, wide white wall tires, front door arm rests, working steering system, leather upholstery. Color black.</td><td>2378</td><td>64.58</td><td>105.87</td></tr><tr><td>S18_4027</td><td>1970 Triumph Spitfire</td><td>Classic Cars</td><td>1:18</td><td>Min Lin Diecast</td><td>Features include opening and closing doors. Color: White.</td><td>5545</td><td>91.92</td><td>143.62</td></tr><tr><td>S18_4409</td><td>1932 Alfa Romeo 8C2300 Spider Sport</td><td>Vintage Cars</td><td>1:18</td><td>Exoto Designs</td><td>This 1:18 scale precision die cast replica features the 6 front headlights of the original, plus a detailed version of the 142 horsepower straight 8 engine, dual spares and their famous comprehensive dashboard. Color black.</td><td>6553</td><td>43.26</td><td>92.03</td></tr><tr><td>S18_4522</td><td>1904 Buick Runabout</td><td>Vintage Cars</td><td>1:18</td><td>Exoto Designs</td><td>Features opening trunk,  working steering system</td><td>8290</td><td>52.66</td><td>87.77</td></tr><tr><td>S18_4600</td><td>1940s Ford truck</td><td>Trucks and Buses</td><td>1:18</td><td>Motor City Art Classics</td><td>This 1940s Ford Pick-Up truck is re-created in 1:18 scale of original 1940s Ford truck. This antique style metal 1940s Ford Flatbed truck is all hand-assembled. This collectible 1940's Pick-Up truck is painted in classic dark green color, and features rotating wheels.</td><td>3128</td><td>84.76</td><td>121.08</td></tr><tr><td>S18_4668</td><td>1939 Cadillac Limousine</td><td>Vintage Cars</td><td>1:18</td><td>Studio M Art Models</td><td>Features completely detailed interior including Velvet flocked drapes,deluxe wood grain floor, and a wood grain casket with seperate chrome handles</td><td>6645</td><td>23.14</td><td>50.31</td></tr><tr><td>S18_4721</td><td>1957 Corvette Convertible</td><td>Classic Cars</td><td>1:18</td><td>Classic Metal Creations</td><td>1957 die cast Corvette Convertible in Roman Red with white sides and whitewall tires. 1:18 scale quality die-cast with detailed engine and underbvody. Now you can own The Classic Corvette.</td><td>1249</td><td>69.93</td><td>148.80</td></tr><tr><td>S18_4933</td><td>1957 Ford Thunderbird</td><td>Classic Cars</td><td>1:18</td><td>Studio M Art Models</td><td>This 1:18 scale precision die-cast replica, with its optional porthole hardtop and factory baked-enamel Thunderbird Bronze finish, is a 100% accurate rendition of this American classic.</td><td>3209</td><td>34.21</td><td>71.27</td></tr><tr><td>S24_1046</td><td>1970 Chevy Chevelle SS 454</td><td>Classic Cars</td><td>1:24</td><td>Unimax Art Galleries</td><td>This model features rotating wheels, working streering system and opening doors. All parts are particularly delicate due to their precise scale and require special care and attention. It should not be picked up by the doors, roof, hood or trunk.</td><td>1005</td><td>49.24</td><td>73.49</td></tr><tr><td>S24_1444</td><td>1970 Dodge Coronet</td><td>Classic Cars</td><td>1:24</td><td>Highway 66 Mini Classics</td><td>1:24 scale die-cast about 18\\\" long doors open, hood opens and rubber wheels</td><td>4074</td><td>32.37</td><td>57.80</td></tr><tr><td>S24_1578</td><td>1997 BMW R 1100 S</td><td>Motorcycles</td><td>1:24</td><td>Autoart Studio Design</td><td>Detailed scale replica with working suspension and constructed from over 70 parts</td><td>7003</td><td>60.86</td><td>112.70</td></tr><tr><td>S24_1628</td><td>1966 Shelby Cobra 427 S/C</td><td>Classic Cars</td><td>1:24</td><td>Carousel DieCast Legends</td><td>This diecast model of the 1966 Shelby Cobra 427 S/C includes many authentic details and operating parts. The 1:24 scale model of this iconic lighweight sports car from the 1960s comes in silver and it's own display case.</td><td>8197</td><td>29.18</td><td>50.31</td></tr><tr><td>S24_1785</td><td>1928 British Royal Navy Airplane</td><td>Planes</td><td>1:24</td><td>Classic Metal Creations</td><td>Official logos and insignias</td><td>3627</td><td>66.74</td><td>109.42</td></tr><tr><td>S24_1937</td><td>1939 Chevrolet Deluxe Coupe</td><td>Vintage Cars</td><td>1:24</td><td>Motor City Art Classics</td><td>This 1:24 scale die-cast replica of the 1939 Chevrolet Deluxe Coupe has the same classy look as the original. Features opening trunk, hood and doors and a showroom quality baked enamel finish.</td><td>7332</td><td>22.57</td><td>33.19</td></tr><tr><td>S24_2000</td><td>1960 BSA Gold Star DBD34</td><td>Motorcycles</td><td>1:24</td><td>Highway 66 Mini Classics</td><td>Detailed scale replica with working suspension and constructed from over 70 parts</td><td>15</td><td>37.32</td><td>76.17</td></tr><tr><td>S24_2011</td><td>18th century schooner</td><td>Ships</td><td>1:24</td><td>Carousel DieCast Legends</td><td>All wood with canvas sails. Many extras including rigging, long boats, pilot house, anchors, etc. Comes with 4 masts, all square-rigged.</td><td>1898</td><td>82.34</td><td>122.89</td></tr><tr><td>S24_2022</td><td>1938 Cadillac V-16 Presidential Limousine</td><td>Vintage Cars</td><td>1:24</td><td>Classic Metal Creations</td><td>This 1:24 scale precision die cast replica of the 1938 Cadillac V-16 Presidential Limousine has all the details of the original, from the flags on the front to an opening back seat compartment complete with telephone and rifle. Features factory baked-enamel black finish, hood goddess ornament, working jump seats.</td><td>2847</td><td>20.61</td><td>44.80</td></tr><tr><td>S24_2300</td><td>1962 Volkswagen Microbus</td><td>Trucks and Buses</td><td>1:24</td><td>Autoart Studio Design</td><td>This 1:18 scale die cast replica of the 1962 Microbus is loaded with features: A working steering system, opening front doors and tailgate, and famous two-tone factory baked enamel finish, are all topped of by the sliding, real fabric, sunroof.</td><td>2327</td><td>61.34</td><td>127.79</td></tr><tr><td>S24_2360</td><td>1982 Ducati 900 Monster</td><td>Motorcycles</td><td>1:24</td><td>Highway 66 Mini Classics</td><td>Features two-tone paint with chrome accents, superior die-cast detail , rotating wheels , working kick stand</td><td>6840</td><td>47.10</td><td>69.26</td></tr><tr><td>S24_2766</td><td>1949 Jaguar XK 120</td><td>Classic Cars</td><td>1:24</td><td>Classic Metal Creations</td><td>Precision-engineered from original Jaguar specification in perfect scale ratio. Features opening doors, superb detail and craftsmanship, working steering system, opening forward compartment, opening rear trunk with removable spare, 4 wheel independent spring suspension as well as factory baked enamel finish.</td><td>2350</td><td>47.25</td><td>90.87</td></tr><tr><td>S24_2840</td><td>1958 Chevy Corvette Limited Edition</td><td>Classic Cars</td><td>1:24</td><td>Carousel DieCast Legends</td><td>The operating parts of this 1958 Chevy Corvette Limited Edition are particularly delicate due to their precise scale and require special care and attention. Features rotating wheels, working streering, opening doors and trunk. Color dark green.</td><td>2542</td><td>15.91</td><td>35.36</td></tr><tr><td>S24_2841</td><td>1900s Vintage Bi-Plane</td><td>Planes</td><td>1:24</td><td>Autoart Studio Design</td><td>Hand crafted diecast-like metal bi-plane is re-created in about 1:24 scale of antique pioneer airplane. All hand-assembled with many different parts. Hand-painted in classic yellow and features correct markings of original airplane.</td><td>5942</td><td>34.25</td><td>68.51</td></tr><tr><td>S24_2887</td><td>1952 Citroen-15CV</td><td>Classic Cars</td><td>1:24</td><td>Exoto Designs</td><td>Precision crafted hand-assembled 1:18 scale reproduction of the 1952 15CV, with its independent spring suspension, working steering system, opening doors and hood, detailed engine and instrument panel, all topped of with a factory fresh baked enamel finish.</td><td>1452</td><td>72.82</td><td>117.44</td></tr><tr><td>S24_2972</td><td>1982 Lamborghini Diablo</td><td>Classic Cars</td><td>1:24</td><td>Second Gear Diecast</td><td>This replica features opening doors, superb detail and craftsmanship, working steering system, opening forward compartment, opening rear trunk with removable spare, 4 wheel independent spring suspension as well as factory baked enamel finish.</td><td>7723</td><td>16.24</td><td>37.76</td></tr><tr><td>S24_3151</td><td>1912 Ford Model T Delivery Wagon</td><td>Vintage Cars</td><td>1:24</td><td>Min Lin Diecast</td><td>This model features chrome trim and grille, opening hood, opening doors, opening trunk, detailed engine, working steering system. Color white.</td><td>9173</td><td>46.91</td><td>88.51</td></tr><tr><td>S24_3191</td><td>1969 Chevrolet Camaro Z28</td><td>Classic Cars</td><td>1:24</td><td>Exoto Designs</td><td>1969 Z/28 Chevy Camaro 1:24 scale replica. The operating parts of this limited edition 1:24 scale diecast model car 1969 Chevy Camaro Z28- hood, trunk, wheels, streering, suspension and doors- are particularly delicate due to their precise scale and require special care and attention.</td><td>4695</td><td>50.51</td><td>85.61</td></tr><tr><td>S24_3371</td><td>1971 Alpine Renault 1600s</td><td>Classic Cars</td><td>1:24</td><td>Welly Diecast Productions</td><td>This 1971 Alpine Renault 1600s replica Features opening doors, superb detail and craftsmanship, working steering system, opening forward compartment, opening rear trunk with removable spare, 4 wheel independent spring suspension as well as factory baked enamel finish.</td><td>7995</td><td>38.58</td><td>61.23</td></tr><tr><td>S24_3420</td><td>1937 Horch 930V Limousine</td><td>Vintage Cars</td><td>1:24</td><td>Autoart Studio Design</td><td>Features opening hood, opening doors, opening trunk, wide white wall tires, front door arm rests, working steering system</td><td>2902</td><td>26.30</td><td>65.75</td></tr><tr><td>S24_3432</td><td>2002 Chevy Corvette</td><td>Classic Cars</td><td>1:24</td><td>Gearbox Collectibles</td><td>The operating parts of this limited edition Diecast 2002 Chevy Corvette 50th Anniversary Pace car Limited Edition are particularly delicate due to their precise scale and require special care and attention. Features rotating wheels, poseable streering, opening doors and trunk.</td><td>9446</td><td>62.11</td><td>107.08</td></tr><tr><td>S24_3816</td><td>1940 Ford Delivery Sedan</td><td>Vintage Cars</td><td>1:24</td><td>Carousel DieCast Legends</td><td>Chrome Trim, Chrome Grille, Opening Hood, Opening Doors, Opening Trunk, Detailed Engine, Working Steering System. Color black.</td><td>6621</td><td>48.64</td><td>83.86</td></tr><tr><td>S24_3856</td><td>1956 Porsche 356A Coupe</td><td>Classic Cars</td><td>1:18</td><td>Classic Metal Creations</td><td>Features include: Turnable front wheels; steering function; detailed interior; detailed engine; opening hood; opening trunk; opening doors; and detailed chassis.</td><td>6600</td><td>98.30</td><td>140.43</td></tr><tr><td>S24_3949</td><td>Corsair F4U ( Bird Cage)</td><td>Planes</td><td>1:24</td><td>Second Gear Diecast</td><td>Has retractable wheels and comes with a stand. Official logos and insignias.</td><td>6812</td><td>29.34</td><td>68.24</td></tr><tr><td>S24_3969</td><td>1936 Mercedes Benz 500k Roadster</td><td>Vintage Cars</td><td>1:24</td><td>Red Start Diecast</td><td>This model features grille-mounted chrome horn, lift-up louvered hood, fold-down rumble seat, working steering system and rubber wheels. Color black.</td><td>2081</td><td>21.75</td><td>41.03</td></tr><tr><td>S24_4048</td><td>1992 Porsche Cayenne Turbo Silver</td><td>Classic Cars</td><td>1:24</td><td>Exoto Designs</td><td>This replica features opening doors, superb detail and craftsmanship, working steering system, opening forward compartment, opening rear trunk with removable spare, 4 wheel independent spring suspension as well as factory baked enamel finish.</td><td>6582</td><td>69.78</td><td>118.28</td></tr><tr><td>S24_4258</td><td>1936 Chrysler Airflow</td><td>Vintage Cars</td><td>1:24</td><td>Second Gear Diecast</td><td>Features opening trunk,  working steering system. Color dark green.</td><td>4710</td><td>57.46</td><td>97.39</td></tr><tr><td>S24_4278</td><td>1900s Vintage Tri-Plane</td><td>Planes</td><td>1:24</td><td>Unimax Art Galleries</td><td>Hand crafted diecast-like metal Triplane is Re-created in about 1:24 scale of antique pioneer airplane. This antique style metal triplane is all hand-assembled with many different parts.</td><td>2756</td><td>36.23</td><td>72.45</td></tr><tr><td>S24_4620</td><td>1961 Chevrolet Impala</td><td>Classic Cars</td><td>1:18</td><td>Classic Metal Creations</td><td>This 1:18 scale precision die-cast reproduction of the 1961 Chevrolet Impala has all the features-doors, hood and trunk that open; detailed 409 cubic-inch engine; chrome dashboard and stick shift, two-tone interior; working steering system; all topped of with a factory baked-enamel finish.</td><td>7869</td><td>32.33</td><td>80.84</td></tr><tr><td>S32_1268</td><td>1980�s GM Manhattan Express</td><td>Trucks and Buses</td><td>1:32</td><td>Motor City Art Classics</td><td>This 1980�s era new look Manhattan express is still active, running from the Bronx to mid-town Manhattan. Has 35 opeining windows and working lights. Needs a battery.</td><td>5099</td><td>53.93</td><td>96.31</td></tr><tr><td>S32_1374</td><td>1997 BMW F650 ST</td><td>Motorcycles</td><td>1:32</td><td>Exoto Designs</td><td>Features official die-struck logos and baked enamel finish. Comes with stand.</td><td>178</td><td>66.92</td><td>99.89</td></tr><tr><td>S32_2206</td><td>1982 Ducati 996 R</td><td>Motorcycles</td><td>1:32</td><td>Gearbox Collectibles</td><td>Features rotating wheels , working kick stand. Comes with stand.</td><td>9241</td><td>24.14</td><td>40.23</td></tr><tr><td>S32_2509</td><td>1954 Greyhound Scenicruiser</td><td>Trucks and Buses</td><td>1:32</td><td>Classic Metal Creations</td><td>Model features bi-level seating, 50 windows, skylights & glare resistant glass, working steering system, original logos</td><td>2874</td><td>25.98</td><td>54.11</td></tr><tr><td>S32_3207</td><td>1950's Chicago Surface Lines Streetcar</td><td>Trains</td><td>1:32</td><td>Gearbox Collectibles</td><td>This streetcar is a joy to see. It has 80 separate windows, electric wire guides, detailed interiors with seats, poles and drivers controls, rolling and turning wheel assemblies, plus authentic factory baked-enamel finishes (Green Hornet for Chicago and Cream and Crimson for Boston).</td><td>8601</td><td>26.72</td><td>62.14</td></tr><tr><td>S32_3522</td><td>1996 Peterbilt 379 Stake Bed with Outrigger</td><td>Trucks and Buses</td><td>1:32</td><td>Red Start Diecast</td><td>This model features, opening doors, detailed engine, working steering, tinted windows, detailed interior, die-struck logos, removable stakes operating outriggers, detachable second trailer, functioning 360-degree self loader, precision molded resin trailer and trim, baked enamel finish on cab</td><td>814</td><td>33.61</td><td>64.64</td></tr><tr><td>S32_4289</td><td>1928 Ford Phaeton Deluxe</td><td>Vintage Cars</td><td>1:32</td><td>Highway 66 Mini Classics</td><td>This model features grille-mounted chrome horn, lift-up louvered hood, fold-down rumble seat, working steering system</td><td>136</td><td>33.02</td><td>68.79</td></tr><tr><td>S32_4485</td><td>1974 Ducati 350 Mk3 Desmo</td><td>Motorcycles</td><td>1:32</td><td>Second Gear Diecast</td><td>This model features two-tone paint with chrome accents, superior die-cast detail , rotating wheels , working kick stand</td><td>3341</td><td>56.13</td><td>102.05</td></tr><tr><td>S50_1341</td><td>1930 Buick Marquette Phaeton</td><td>Vintage Cars</td><td>1:50</td><td>Studio M Art Models</td><td>Features opening trunk,  working steering system</td><td>7062</td><td>27.06</td><td>43.64</td></tr><tr><td>S50_1392</td><td>Diamond T620 Semi-Skirted Tanker</td><td>Trucks and Buses</td><td>1:50</td><td>Highway 66 Mini Classics</td><td>This limited edition model is licensed and perfectly scaled for Lionel Trains. The Diamond T620 has been produced in solid precision diecast and painted with a fire baked enamel finish. It comes with a removable tanker and is a perfect model to add authenticity to your static train or car layout or to just have on display.</td><td>1016</td><td>68.29</td><td>115.75</td></tr><tr><td>S50_1514</td><td>1962 City of Detroit Streetcar</td><td>Trains</td><td>1:50</td><td>Classic Metal Creations</td><td>This streetcar is a joy to see. It has 99 separate windows, electric wire guides, detailed interiors with seats, poles and drivers controls, rolling and turning wheel assemblies, plus authentic factory baked-enamel finishes (Green Hornet for Chicago and Cream and Crimson for Boston).</td><td>1645</td><td>37.49</td><td>58.58</td></tr><tr><td>S50_4713</td><td>2002 Yamaha YZR M1</td><td>Motorcycles</td><td>1:50</td><td>Autoart Studio Design</td><td>Features rotating wheels , working kick stand. Comes with stand.</td><td>600</td><td>34.17</td><td>81.36</td></tr><tr><td>S700_1138</td><td>The Schooner Bluenose</td><td>Ships</td><td>1:700</td><td>Autoart Studio Design</td><td>All wood with canvas sails. Measures 31 1/2 inches in Length, 22 inches High and 4 3/4 inches Wide. Many extras.\\r\\nThe schooner Bluenose was built in Nova Scotia in 1921 to fish the rough waters off the coast of Newfoundland. Because of the Bluenose racing prowess she became the pride of all Canadians. Still featured on stamps and the Canadian dime, the Bluenose was lost off Haiti in 1946.</td><td>1897</td><td>34.00</td><td>66.67</td></tr><tr><td>S700_1691</td><td>American Airlines: B767-300</td><td>Planes</td><td>1:700</td><td>Min Lin Diecast</td><td>Exact replia with official logos and insignias and retractable wheels</td><td>5841</td><td>51.15</td><td>91.34</td></tr><tr><td>S700_1938</td><td>The Mayflower</td><td>Ships</td><td>1:700</td><td>Studio M Art Models</td><td>Measures 31 1/2 inches Long x 25 1/2 inches High x 10 5/8 inches Wide\\r\\nAll wood with canvas sail. Extras include long boats, rigging, ladders, railing, anchors, side cannons, hand painted, etc.</td><td>737</td><td>43.30</td><td>86.61</td></tr><tr><td>S700_2047</td><td>HMS Bounty</td><td>Ships</td><td>1:700</td><td>Unimax Art Galleries</td><td>Measures 30 inches Long x 27 1/2 inches High x 4 3/4 inches Wide. \\r\\nMany extras including rigging, long boats, pilot house, anchors, etc. Comes with three masts, all square-rigged.</td><td>3501</td><td>39.83</td><td>90.52</td></tr><tr><td>S700_2466</td><td>America West Airlines B757-200</td><td>Planes</td><td>1:700</td><td>Motor City Art Classics</td><td>Official logos and insignias. Working steering system. Rotating jet engines</td><td>9653</td><td>68.80</td><td>99.72</td></tr><tr><td>S700_2610</td><td>The USS Constitution Ship</td><td>Ships</td><td>1:700</td><td>Red Start Diecast</td><td>All wood with canvas sails. Measures 31 1/2\\\" Length x 22 3/8\\\" High x 8 1/4\\\" Width. Extras include 4 boats on deck, sea sprite on bow, anchors, copper railing, pilot houses, etc.</td><td>7083</td><td>33.97</td><td>72.28</td></tr><tr><td>S700_2824</td><td>1982 Camaro Z28</td><td>Classic Cars</td><td>1:18</td><td>Carousel DieCast Legends</td><td>Features include opening and closing doors. Color: White. \\r\\nMeasures approximately 9 1/2\\\" Long.</td><td>6934</td><td>46.53</td><td>101.15</td></tr><tr><td>S700_2834</td><td>ATA: B757-300</td><td>Planes</td><td>1:700</td><td>Highway 66 Mini Classics</td><td>Exact replia with official logos and insignias and retractable wheels</td><td>7106</td><td>59.33</td><td>118.65</td></tr><tr><td>S700_3167</td><td>F/A 18 Hornet 1/72</td><td>Planes</td><td>1:72</td><td>Motor City Art Classics</td><td>10\\\" Wingspan with retractable landing gears.Comes with pilot</td><td>551</td><td>54.40</td><td>80.00</td></tr><tr><td>S700_3505</td><td>The Titanic</td><td>Ships</td><td>1:700</td><td>Carousel DieCast Legends</td><td>Completed model measures 19 1/2 inches long, 9 inches high, 3inches wide and is in barn red/black. All wood and metal.</td><td>1956</td><td>51.09</td><td>100.17</td></tr><tr><td>S700_3962</td><td>The Queen Mary</td><td>Ships</td><td>1:700</td><td>Welly Diecast Productions</td><td>Exact replica. Wood and Metal. Many extras including rigging, long boats, pilot house, anchors, etc. Comes with three masts, all square-rigged.</td><td>5088</td><td>53.63</td><td>99.31</td></tr><tr><td>S700_4002</td><td>American Airlines: MD-11S</td><td>Planes</td><td>1:700</td><td>Second Gear Diecast</td><td>Polished finish. Exact replia with official logos and insignias and retractable wheels</td><td>8820</td><td>36.27</td><td>74.03</td></tr><tr><td>S72_3212</td><td>Pont Yacht</td><td>Ships</td><td>1:72</td><td>Unimax Art Galleries</td><td>Measures 38 inches Long x 33 3/4 inches High. Includes a stand.\\r\\nMany extras including rigging, long boats, pilot house, anchors, etc. Comes with 2 masts, all square-rigged</td><td>414</td><td>33.30</td><td>54.60</td></tr></tbody></table></div>"
      ]
     },
     "metadata": {
      "application/vnd.databricks.v1+output": {
       "addedWidgets": {},
       "aggData": [],
       "aggError": "",
       "aggOverflow": false,
       "aggSchema": [],
       "aggSeriesLimitReached": false,
       "aggType": "",
       "arguments": {},
       "columnCustomDisplayInfos": {},
       "data": [
        [
         "S10_1678",
         "1969 Harley Davidson Ultimate Chopper",
         "Motorcycles",
         "1:10",
         "Min Lin Diecast",
         "This replica features working kickstand, front suspension, gear-shift lever, footbrake lever, drive chain, wheels and steering. All parts are particularly delicate due to their precise scale and require special care and attention.",
         7933,
         "48.81",
         "95.70"
        ],
        [
         "S10_1949",
         "Alpine Renault 1300",
         "Classic Cars",
         "1:10",
         "Classic Metal Creations",
         "Turnable front wheels; steering function; detailed interior; detailed engine; opening hood; opening trunk; opening doors; and detailed chassis.",
         7305,
         "98.58",
         "214.30"
        ],
        [
         "S10_2016",
         "1996 Moto Guzzi 1100i",
         "Motorcycles",
         "1:10",
         "Highway 66 Mini Classics",
         "Official Moto Guzzi logos and insignias, saddle bags located on side of motorcycle, detailed engine, working steering, working suspension, two leather seats, luggage rack, dual exhaust pipes, small saddle bag located on handle bars, two-tone paint with chrome accents, superior die-cast detail , rotating wheels , working kick stand, diecast metal with plastic parts and baked enamel finish.",
         6625,
         "68.99",
         "118.94"
        ],
        [
         "S10_4698",
         "2003 Harley-Davidson Eagle Drag Bike",
         "Motorcycles",
         "1:10",
         "Red Start Diecast",
         "Model features, official Harley Davidson logos and insignias, detachable rear wheelie bar, heavy diecast metal with resin parts, authentic multi-color tampo-printed graphics, separate engine drive belts, free-turning front fork, rotating tires and rear racing slick, certificate of authenticity, detailed engine, display stand\\r\\n, precision diecast replica, baked enamel finish, 1:10 scale model, removable fender, seat and tank cover piece for displaying the superior detail of the v-twin engine",
         5582,
         "91.02",
         "193.66"
        ],
        [
         "S10_4757",
         "1972 Alfa Romeo GTA",
         "Classic Cars",
         "1:10",
         "Motor City Art Classics",
         "Features include: Turnable front wheels; steering function; detailed interior; detailed engine; opening hood; opening trunk; opening doors; and detailed chassis.",
         3252,
         "85.68",
         "136.00"
        ],
        [
         "S10_4962",
         "1962 LanciaA Delta 16V",
         "Classic Cars",
         "1:10",
         "Second Gear Diecast",
         "Features include: Turnable front wheels; steering function; detailed interior; detailed engine; opening hood; opening trunk; opening doors; and detailed chassis.",
         6791,
         "103.42",
         "147.74"
        ],
        [
         "S12_1099",
         "1968 Fods Mustang",
         "Classic Cars",
         "1:12",
         "Autoart Studio Design",
         "Hood, doors and trunk all open to reveal highly detailed interior features. Steering wheel actually turns the front wheels. Color dark green.",
         68,
         "95.34",
         "194.57"
        ],
        [
         "S12_1108",
         "2001 Ferrari Enzo",
         "Classic Cars",
         "1:12",
         "Second Gear Diecast",
         "Turnable front wheels; steering function; detailed interior; detailed engine; opening hood; opening trunk; opening doors; and detailed chassis.",
         3619,
         "95.59",
         "207.80"
        ],
        [
         "S12_1666",
         "1958 Setra Bus",
         "Trucks and Buses",
         "1:12",
         "Welly Diecast Productions",
         "Model features 30 windows, skylights & glare resistant glass, working steering system, original logos",
         1579,
         "77.90",
         "136.67"
        ],
        [
         "S12_2823",
         "2002 Suzuki XREO",
         "Motorcycles",
         "1:12",
         "Unimax Art Galleries",
         "Official logos and insignias, saddle bags located on side of motorcycle, detailed engine, working steering, working suspension, two leather seats, luggage rack, dual exhaust pipes, small saddle bag located on handle bars, two-tone paint with chrome accents, superior die-cast detail , rotating wheels , working kick stand, diecast metal with plastic parts and baked enamel finish.",
         9997,
         "66.27",
         "150.62"
        ],
        [
         "S12_3148",
         "1969 Corvair Monza",
         "Classic Cars",
         "1:18",
         "Welly Diecast Productions",
         "1:18 scale die-cast about 10\\\" long doors open, hood opens, trunk opens and wheels roll",
         6906,
         "89.14",
         "151.08"
        ],
        [
         "S12_3380",
         "1968 Dodge Charger",
         "Classic Cars",
         "1:12",
         "Welly Diecast Productions",
         "1:12 scale model of a 1968 Dodge Charger. Hood, doors and trunk all open to reveal highly detailed interior features. Steering wheel actually turns the front wheels. Color black",
         9123,
         "75.16",
         "117.44"
        ],
        [
         "S12_3891",
         "1960 Ford Falcon",
         "Classic Cars",
         "1:12",
         "Second Gear Diecast",
         "Turnable front wheels; steering function; detailed interior; detailed engine; opening hood; opening trunk; opening doors; and detailed chassis.",
         1049,
         "80.05",
         "173.02"
        ],
        [
         "S12_3990",
         "1970 Plymouth Hemi Cuda",
         "Classic Cars",
         "1:12",
         "Studio M Art Models",
         "Very detailed 1970 Plymouth Cuda model in 1:12 scale. The Cuda is generally accepted as one of the fastest original muscle cars from the 1970s. This model is a reproduction of one of the orginal 652 cars built in 1970. Red color.",
         5663,
         "31.92",
         "79.80"
        ],
        [
         "S12_4473",
         "1957 Chevy Pickup",
         "Trucks and Buses",
         "1:12",
         "Exoto Designs",
         "1:12 scale die-cast about 20\\\" long Hood opens, Rubber wheels",
         6125,
         "55.70",
         "118.50"
        ],
        [
         "S12_4675",
         "1969 Dodge Charger",
         "Classic Cars",
         "1:12",
         "Welly Diecast Productions",
         "Detailed model of the 1969 Dodge Charger. This model includes finely detailed interior and exterior features. Painted in red and white.",
         7323,
         "58.73",
         "115.16"
        ],
        [
         "S18_1097",
         "1940 Ford Pickup Truck",
         "Trucks and Buses",
         "1:18",
         "Studio M Art Models",
         "This model features soft rubber tires, working steering, rubber mud guards, authentic Ford logos, detailed undercarriage, opening doors and hood,  removable split rear gate, full size spare mounted in bed, detailed interior with opening glove box",
         2613,
         "58.33",
         "116.67"
        ],
        [
         "S18_1129",
         "1993 Mazda RX-7",
         "Classic Cars",
         "1:18",
         "Highway 66 Mini Classics",
         "This model features, opening hood, opening doors, detailed engine, rear spoiler, opening trunk, working steering, tinted windows, baked enamel finish. Color red.",
         3975,
         "83.51",
         "141.54"
        ],
        [
         "S18_1342",
         "1937 Lincoln Berline",
         "Vintage Cars",
         "1:18",
         "Motor City Art Classics",
         "Features opening engine cover, doors, trunk, and fuel filler cap. Color black",
         8693,
         "60.62",
         "102.74"
        ],
        [
         "S18_1367",
         "1936 Mercedes-Benz 500K Special Roadster",
         "Vintage Cars",
         "1:18",
         "Studio M Art Models",
         "This 1:18 scale replica is constructed of heavy die-cast metal and has all the features of the original: working doors and rumble seat, independent spring suspension, detailed interior, working steering system, and a bifold hood that reveals an engine so accurate that it even includes the wiring. All this is topped off with a baked enamel finish. Color white.",
         8635,
         "24.26",
         "53.91"
        ],
        [
         "S18_1589",
         "1965 Aston Martin DB5",
         "Classic Cars",
         "1:18",
         "Classic Metal Creations",
         "Die-cast model of the silver 1965 Aston Martin DB5 in silver. This model includes full wire wheels and doors that open with fully detailed passenger compartment. In 1:18 scale, this model measures approximately 10 inches/20 cm long.",
         9042,
         "65.96",
         "124.44"
        ],
        [
         "S18_1662",
         "1980s Black Hawk Helicopter",
         "Planes",
         "1:18",
         "Red Start Diecast",
         "1:18 scale replica of actual Army's UH-60L BLACK HAWK Helicopter. 100% hand-assembled. Features rotating rotor blades, propeller blades and rubber wheels.",
         5330,
         "77.27",
         "157.69"
        ],
        [
         "S18_1749",
         "1917 Grand Touring Sedan",
         "Vintage Cars",
         "1:18",
         "Welly Diecast Productions",
         "This 1:18 scale replica of the 1917 Grand Touring car has all the features you would expect from museum quality reproductions: all four doors and bi-fold hood opening, detailed engine and instrument panel, chrome-look trim, and tufted upholstery, all topped off with a factory baked-enamel finish.",
         2724,
         "86.70",
         "170.00"
        ],
        [
         "S18_1889",
         "1948 Porsche 356-A Roadster",
         "Classic Cars",
         "1:18",
         "Gearbox Collectibles",
         "This precision die-cast replica features opening doors, superb detail and craftsmanship, working steering system, opening forward compartment, opening rear trunk with removable spare, 4 wheel independent spring suspension as well as factory baked enamel finish.",
         8826,
         "53.90",
         "77.00"
        ],
        [
         "S72_1253",
         "Boeing X-32A JSF",
         "Planes",
         "1:72",
         "Motor City Art Classics",
         "10\\\" Wingspan with retractable landing gears.Comes with pilot",
         4857,
         "32.77",
         "49.66"
        ],
        [
         "S18_1984",
         "1995 Honda Civic",
         "Classic Cars",
         "1:18",
         "Min Lin Diecast",
         "This model features, opening hood, opening doors, detailed engine, rear spoiler, opening trunk, working steering, tinted windows, baked enamel finish. Color yellow.",
         9772,
         "93.89",
         "142.25"
        ],
        [
         "S18_2238",
         "1998 Chrysler Plymouth Prowler",
         "Classic Cars",
         "1:18",
         "Gearbox Collectibles",
         "Turnable front wheels; steering function; detailed interior; detailed engine; opening hood; opening trunk; opening doors; and detailed chassis.",
         4724,
         "101.51",
         "163.73"
        ],
        [
         "S18_2248",
         "1911 Ford Town Car",
         "Vintage Cars",
         "1:18",
         "Motor City Art Classics",
         "Features opening hood, opening doors, opening trunk, wide white wall tires, front door arm rests, working steering system.",
         540,
         "33.30",
         "60.54"
        ],
        [
         "S18_2319",
         "1964 Mercedes Tour Bus",
         "Trucks and Buses",
         "1:18",
         "Unimax Art Galleries",
         "Exact replica. 100+ parts. working steering system, original logos",
         8258,
         "74.86",
         "122.73"
        ],
        [
         "S18_2325",
         "1932 Model A Ford J-Coupe",
         "Vintage Cars",
         "1:18",
         "Autoart Studio Design",
         "This model features grille-mounted chrome horn, lift-up louvered hood, fold-down rumble seat, working steering system, chrome-covered spare, opening doors, detailed and wired engine",
         9354,
         "58.48",
         "127.13"
        ],
        [
         "S18_2432",
         "1926 Ford Fire Engine",
         "Trucks and Buses",
         "1:18",
         "Carousel DieCast Legends",
         "Gleaming red handsome appearance. Everything is here the fire hoses, ladder, axes, bells, lanterns, ready to fight any inferno.",
         2018,
         "24.92",
         "60.77"
        ],
        [
         "S18_2581",
         "P-51-D Mustang",
         "Planes",
         "1:72",
         "Gearbox Collectibles",
         "Has retractable wheels and comes with a stand",
         992,
         "49.00",
         "84.48"
        ],
        [
         "S18_2625",
         "1936 Harley Davidson El Knucklehead",
         "Motorcycles",
         "1:18",
         "Welly Diecast Productions",
         "Intricately detailed with chrome accents and trim, official die-struck logos and baked enamel finish.",
         4357,
         "24.23",
         "60.57"
        ],
        [
         "S18_2795",
         "1928 Mercedes-Benz SSK",
         "Vintage Cars",
         "1:18",
         "Gearbox Collectibles",
         "This 1:18 replica features grille-mounted chrome horn, lift-up louvered hood, fold-down rumble seat, working steering system, chrome-covered spare, opening doors, detailed and wired engine. Color black.",
         548,
         "72.56",
         "168.75"
        ],
        [
         "S18_2870",
         "1999 Indy 500 Monte Carlo SS",
         "Classic Cars",
         "1:18",
         "Red Start Diecast",
         "Features include opening and closing doors. Color: Red",
         8164,
         "56.76",
         "132.00"
        ],
        [
         "S18_2949",
         "1913 Ford Model T Speedster",
         "Vintage Cars",
         "1:18",
         "Carousel DieCast Legends",
         "This 250 part reproduction includes moving handbrakes, clutch, throttle and foot pedals, squeezable horn, detailed wired engine, removable water, gas, and oil cans, pivoting monocle windshield, all topped with a baked enamel red finish. Each replica comes with an Owners Title and Certificate of Authenticity. Color red.",
         4189,
         "60.78",
         "101.31"
        ],
        [
         "S18_2957",
         "1934 Ford V8 Coupe",
         "Vintage Cars",
         "1:18",
         "Min Lin Diecast",
         "Chrome Trim, Chrome Grille, Opening Hood, Opening Doors, Opening Trunk, Detailed Engine, Working Steering System",
         5649,
         "34.35",
         "62.46"
        ],
        [
         "S18_3029",
         "1999 Yamaha Speed Boat",
         "Ships",
         "1:18",
         "Min Lin Diecast",
         "Exact replica. Wood and Metal. Many extras including rigging, long boats, pilot house, anchors, etc. Comes with three masts, all square-rigged.",
         4259,
         "51.61",
         "86.02"
        ],
        [
         "S18_3136",
         "18th Century Vintage Horse Carriage",
         "Vintage Cars",
         "1:18",
         "Red Start Diecast",
         "Hand crafted diecast-like metal horse carriage is re-created in about 1:18 scale of antique horse carriage. This antique style metal Stagecoach is all hand-assembled with many different parts.\\r\\n\\r\\nThis collectible metal horse carriage is painted in classic Red, and features turning steering wheel and is entirely hand-finished.",
         5992,
         "60.74",
         "104.72"
        ],
        [
         "S18_3140",
         "1903 Ford Model A",
         "Vintage Cars",
         "1:18",
         "Unimax Art Galleries",
         "Features opening trunk,  working steering system",
         3913,
         "68.30",
         "136.59"
        ],
        [
         "S18_3232",
         "1992 Ferrari 360 Spider red",
         "Classic Cars",
         "1:18",
         "Unimax Art Galleries",
         "his replica features opening doors, superb detail and craftsmanship, working steering system, opening forward compartment, opening rear trunk with removable spare, 4 wheel independent spring suspension as well as factory baked enamel finish.",
         8347,
         "77.90",
         "169.34"
        ],
        [
         "S18_3233",
         "1985 Toyota Supra",
         "Classic Cars",
         "1:18",
         "Highway 66 Mini Classics",
         "This model features soft rubber tires, working steering, rubber mud guards, authentic Ford logos, detailed undercarriage, opening doors and hood, removable split rear gate, full size spare mounted in bed, detailed interior with opening glove box",
         7733,
         "57.01",
         "107.57"
        ],
        [
         "S18_3259",
         "Collectable Wooden Train",
         "Trains",
         "1:18",
         "Carousel DieCast Legends",
         "Hand crafted wooden toy train set is in about 1:18 scale, 25 inches in total length including 2 additional carts, of actual vintage train. This antique style wooden toy train model set is all hand-assembled with 100% wood.",
         6450,
         "67.56",
         "100.84"
        ],
        [
         "S18_3278",
         "1969 Dodge Super Bee",
         "Classic Cars",
         "1:18",
         "Min Lin Diecast",
         "This replica features opening doors, superb detail and craftsmanship, working steering system, opening forward compartment, opening rear trunk with removable spare, 4 wheel independent spring suspension as well as factory baked enamel finish.",
         1917,
         "49.05",
         "80.41"
        ],
        [
         "S18_3320",
         "1917 Maxwell Touring Car",
         "Vintage Cars",
         "1:18",
         "Exoto Designs",
         "Features Gold Trim, Full Size Spare Tire, Chrome Trim, Chrome Grille, Opening Hood, Opening Doors, Opening Trunk, Detailed Engine, Working Steering System",
         7913,
         "57.54",
         "99.21"
        ],
        [
         "S18_3482",
         "1976 Ford Gran Torino",
         "Classic Cars",
         "1:18",
         "Gearbox Collectibles",
         "Highly detailed 1976 Ford Gran Torino \\\"Starsky and Hutch\\\" diecast model. Very well constructed and painted in red and white patterns.",
         9127,
         "73.49",
         "146.99"
        ],
        [
         "S18_3685",
         "1948 Porsche Type 356 Roadster",
         "Classic Cars",
         "1:18",
         "Gearbox Collectibles",
         "This model features working front and rear suspension on accurately replicated and actuating shock absorbers as well as opening engine cover, rear stabilizer flap,  and 4 opening doors.",
         8990,
         "62.16",
         "141.28"
        ],
        [
         "S18_3782",
         "1957 Vespa GS150",
         "Motorcycles",
         "1:18",
         "Studio M Art Models",
         "Features rotating wheels , working kick stand. Comes with stand.",
         7689,
         "32.95",
         "62.17"
        ],
        [
         "S18_3856",
         "1941 Chevrolet Special Deluxe Cabriolet",
         "Vintage Cars",
         "1:18",
         "Exoto Designs",
         "Features opening hood, opening doors, opening trunk, wide white wall tires, front door arm rests, working steering system, leather upholstery. Color black.",
         2378,
         "64.58",
         "105.87"
        ],
        [
         "S18_4027",
         "1970 Triumph Spitfire",
         "Classic Cars",
         "1:18",
         "Min Lin Diecast",
         "Features include opening and closing doors. Color: White.",
         5545,
         "91.92",
         "143.62"
        ],
        [
         "S18_4409",
         "1932 Alfa Romeo 8C2300 Spider Sport",
         "Vintage Cars",
         "1:18",
         "Exoto Designs",
         "This 1:18 scale precision die cast replica features the 6 front headlights of the original, plus a detailed version of the 142 horsepower straight 8 engine, dual spares and their famous comprehensive dashboard. Color black.",
         6553,
         "43.26",
         "92.03"
        ],
        [
         "S18_4522",
         "1904 Buick Runabout",
         "Vintage Cars",
         "1:18",
         "Exoto Designs",
         "Features opening trunk,  working steering system",
         8290,
         "52.66",
         "87.77"
        ],
        [
         "S18_4600",
         "1940s Ford truck",
         "Trucks and Buses",
         "1:18",
         "Motor City Art Classics",
         "This 1940s Ford Pick-Up truck is re-created in 1:18 scale of original 1940s Ford truck. This antique style metal 1940s Ford Flatbed truck is all hand-assembled. This collectible 1940's Pick-Up truck is painted in classic dark green color, and features rotating wheels.",
         3128,
         "84.76",
         "121.08"
        ],
        [
         "S18_4668",
         "1939 Cadillac Limousine",
         "Vintage Cars",
         "1:18",
         "Studio M Art Models",
         "Features completely detailed interior including Velvet flocked drapes,deluxe wood grain floor, and a wood grain casket with seperate chrome handles",
         6645,
         "23.14",
         "50.31"
        ],
        [
         "S18_4721",
         "1957 Corvette Convertible",
         "Classic Cars",
         "1:18",
         "Classic Metal Creations",
         "1957 die cast Corvette Convertible in Roman Red with white sides and whitewall tires. 1:18 scale quality die-cast with detailed engine and underbvody. Now you can own The Classic Corvette.",
         1249,
         "69.93",
         "148.80"
        ],
        [
         "S18_4933",
         "1957 Ford Thunderbird",
         "Classic Cars",
         "1:18",
         "Studio M Art Models",
         "This 1:18 scale precision die-cast replica, with its optional porthole hardtop and factory baked-enamel Thunderbird Bronze finish, is a 100% accurate rendition of this American classic.",
         3209,
         "34.21",
         "71.27"
        ],
        [
         "S24_1046",
         "1970 Chevy Chevelle SS 454",
         "Classic Cars",
         "1:24",
         "Unimax Art Galleries",
         "This model features rotating wheels, working streering system and opening doors. All parts are particularly delicate due to their precise scale and require special care and attention. It should not be picked up by the doors, roof, hood or trunk.",
         1005,
         "49.24",
         "73.49"
        ],
        [
         "S24_1444",
         "1970 Dodge Coronet",
         "Classic Cars",
         "1:24",
         "Highway 66 Mini Classics",
         "1:24 scale die-cast about 18\\\" long doors open, hood opens and rubber wheels",
         4074,
         "32.37",
         "57.80"
        ],
        [
         "S24_1578",
         "1997 BMW R 1100 S",
         "Motorcycles",
         "1:24",
         "Autoart Studio Design",
         "Detailed scale replica with working suspension and constructed from over 70 parts",
         7003,
         "60.86",
         "112.70"
        ],
        [
         "S24_1628",
         "1966 Shelby Cobra 427 S/C",
         "Classic Cars",
         "1:24",
         "Carousel DieCast Legends",
         "This diecast model of the 1966 Shelby Cobra 427 S/C includes many authentic details and operating parts. The 1:24 scale model of this iconic lighweight sports car from the 1960s comes in silver and it's own display case.",
         8197,
         "29.18",
         "50.31"
        ],
        [
         "S24_1785",
         "1928 British Royal Navy Airplane",
         "Planes",
         "1:24",
         "Classic Metal Creations",
         "Official logos and insignias",
         3627,
         "66.74",
         "109.42"
        ],
        [
         "S24_1937",
         "1939 Chevrolet Deluxe Coupe",
         "Vintage Cars",
         "1:24",
         "Motor City Art Classics",
         "This 1:24 scale die-cast replica of the 1939 Chevrolet Deluxe Coupe has the same classy look as the original. Features opening trunk, hood and doors and a showroom quality baked enamel finish.",
         7332,
         "22.57",
         "33.19"
        ],
        [
         "S24_2000",
         "1960 BSA Gold Star DBD34",
         "Motorcycles",
         "1:24",
         "Highway 66 Mini Classics",
         "Detailed scale replica with working suspension and constructed from over 70 parts",
         15,
         "37.32",
         "76.17"
        ],
        [
         "S24_2011",
         "18th century schooner",
         "Ships",
         "1:24",
         "Carousel DieCast Legends",
         "All wood with canvas sails. Many extras including rigging, long boats, pilot house, anchors, etc. Comes with 4 masts, all square-rigged.",
         1898,
         "82.34",
         "122.89"
        ],
        [
         "S24_2022",
         "1938 Cadillac V-16 Presidential Limousine",
         "Vintage Cars",
         "1:24",
         "Classic Metal Creations",
         "This 1:24 scale precision die cast replica of the 1938 Cadillac V-16 Presidential Limousine has all the details of the original, from the flags on the front to an opening back seat compartment complete with telephone and rifle. Features factory baked-enamel black finish, hood goddess ornament, working jump seats.",
         2847,
         "20.61",
         "44.80"
        ],
        [
         "S24_2300",
         "1962 Volkswagen Microbus",
         "Trucks and Buses",
         "1:24",
         "Autoart Studio Design",
         "This 1:18 scale die cast replica of the 1962 Microbus is loaded with features: A working steering system, opening front doors and tailgate, and famous two-tone factory baked enamel finish, are all topped of by the sliding, real fabric, sunroof.",
         2327,
         "61.34",
         "127.79"
        ],
        [
         "S24_2360",
         "1982 Ducati 900 Monster",
         "Motorcycles",
         "1:24",
         "Highway 66 Mini Classics",
         "Features two-tone paint with chrome accents, superior die-cast detail , rotating wheels , working kick stand",
         6840,
         "47.10",
         "69.26"
        ],
        [
         "S24_2766",
         "1949 Jaguar XK 120",
         "Classic Cars",
         "1:24",
         "Classic Metal Creations",
         "Precision-engineered from original Jaguar specification in perfect scale ratio. Features opening doors, superb detail and craftsmanship, working steering system, opening forward compartment, opening rear trunk with removable spare, 4 wheel independent spring suspension as well as factory baked enamel finish.",
         2350,
         "47.25",
         "90.87"
        ],
        [
         "S24_2840",
         "1958 Chevy Corvette Limited Edition",
         "Classic Cars",
         "1:24",
         "Carousel DieCast Legends",
         "The operating parts of this 1958 Chevy Corvette Limited Edition are particularly delicate due to their precise scale and require special care and attention. Features rotating wheels, working streering, opening doors and trunk. Color dark green.",
         2542,
         "15.91",
         "35.36"
        ],
        [
         "S24_2841",
         "1900s Vintage Bi-Plane",
         "Planes",
         "1:24",
         "Autoart Studio Design",
         "Hand crafted diecast-like metal bi-plane is re-created in about 1:24 scale of antique pioneer airplane. All hand-assembled with many different parts. Hand-painted in classic yellow and features correct markings of original airplane.",
         5942,
         "34.25",
         "68.51"
        ],
        [
         "S24_2887",
         "1952 Citroen-15CV",
         "Classic Cars",
         "1:24",
         "Exoto Designs",
         "Precision crafted hand-assembled 1:18 scale reproduction of the 1952 15CV, with its independent spring suspension, working steering system, opening doors and hood, detailed engine and instrument panel, all topped of with a factory fresh baked enamel finish.",
         1452,
         "72.82",
         "117.44"
        ],
        [
         "S24_2972",
         "1982 Lamborghini Diablo",
         "Classic Cars",
         "1:24",
         "Second Gear Diecast",
         "This replica features opening doors, superb detail and craftsmanship, working steering system, opening forward compartment, opening rear trunk with removable spare, 4 wheel independent spring suspension as well as factory baked enamel finish.",
         7723,
         "16.24",
         "37.76"
        ],
        [
         "S24_3151",
         "1912 Ford Model T Delivery Wagon",
         "Vintage Cars",
         "1:24",
         "Min Lin Diecast",
         "This model features chrome trim and grille, opening hood, opening doors, opening trunk, detailed engine, working steering system. Color white.",
         9173,
         "46.91",
         "88.51"
        ],
        [
         "S24_3191",
         "1969 Chevrolet Camaro Z28",
         "Classic Cars",
         "1:24",
         "Exoto Designs",
         "1969 Z/28 Chevy Camaro 1:24 scale replica. The operating parts of this limited edition 1:24 scale diecast model car 1969 Chevy Camaro Z28- hood, trunk, wheels, streering, suspension and doors- are particularly delicate due to their precise scale and require special care and attention.",
         4695,
         "50.51",
         "85.61"
        ],
        [
         "S24_3371",
         "1971 Alpine Renault 1600s",
         "Classic Cars",
         "1:24",
         "Welly Diecast Productions",
         "This 1971 Alpine Renault 1600s replica Features opening doors, superb detail and craftsmanship, working steering system, opening forward compartment, opening rear trunk with removable spare, 4 wheel independent spring suspension as well as factory baked enamel finish.",
         7995,
         "38.58",
         "61.23"
        ],
        [
         "S24_3420",
         "1937 Horch 930V Limousine",
         "Vintage Cars",
         "1:24",
         "Autoart Studio Design",
         "Features opening hood, opening doors, opening trunk, wide white wall tires, front door arm rests, working steering system",
         2902,
         "26.30",
         "65.75"
        ],
        [
         "S24_3432",
         "2002 Chevy Corvette",
         "Classic Cars",
         "1:24",
         "Gearbox Collectibles",
         "The operating parts of this limited edition Diecast 2002 Chevy Corvette 50th Anniversary Pace car Limited Edition are particularly delicate due to their precise scale and require special care and attention. Features rotating wheels, poseable streering, opening doors and trunk.",
         9446,
         "62.11",
         "107.08"
        ],
        [
         "S24_3816",
         "1940 Ford Delivery Sedan",
         "Vintage Cars",
         "1:24",
         "Carousel DieCast Legends",
         "Chrome Trim, Chrome Grille, Opening Hood, Opening Doors, Opening Trunk, Detailed Engine, Working Steering System. Color black.",
         6621,
         "48.64",
         "83.86"
        ],
        [
         "S24_3856",
         "1956 Porsche 356A Coupe",
         "Classic Cars",
         "1:18",
         "Classic Metal Creations",
         "Features include: Turnable front wheels; steering function; detailed interior; detailed engine; opening hood; opening trunk; opening doors; and detailed chassis.",
         6600,
         "98.30",
         "140.43"
        ],
        [
         "S24_3949",
         "Corsair F4U ( Bird Cage)",
         "Planes",
         "1:24",
         "Second Gear Diecast",
         "Has retractable wheels and comes with a stand. Official logos and insignias.",
         6812,
         "29.34",
         "68.24"
        ],
        [
         "S24_3969",
         "1936 Mercedes Benz 500k Roadster",
         "Vintage Cars",
         "1:24",
         "Red Start Diecast",
         "This model features grille-mounted chrome horn, lift-up louvered hood, fold-down rumble seat, working steering system and rubber wheels. Color black.",
         2081,
         "21.75",
         "41.03"
        ],
        [
         "S24_4048",
         "1992 Porsche Cayenne Turbo Silver",
         "Classic Cars",
         "1:24",
         "Exoto Designs",
         "This replica features opening doors, superb detail and craftsmanship, working steering system, opening forward compartment, opening rear trunk with removable spare, 4 wheel independent spring suspension as well as factory baked enamel finish.",
         6582,
         "69.78",
         "118.28"
        ],
        [
         "S24_4258",
         "1936 Chrysler Airflow",
         "Vintage Cars",
         "1:24",
         "Second Gear Diecast",
         "Features opening trunk,  working steering system. Color dark green.",
         4710,
         "57.46",
         "97.39"
        ],
        [
         "S24_4278",
         "1900s Vintage Tri-Plane",
         "Planes",
         "1:24",
         "Unimax Art Galleries",
         "Hand crafted diecast-like metal Triplane is Re-created in about 1:24 scale of antique pioneer airplane. This antique style metal triplane is all hand-assembled with many different parts.",
         2756,
         "36.23",
         "72.45"
        ],
        [
         "S24_4620",
         "1961 Chevrolet Impala",
         "Classic Cars",
         "1:18",
         "Classic Metal Creations",
         "This 1:18 scale precision die-cast reproduction of the 1961 Chevrolet Impala has all the features-doors, hood and trunk that open; detailed 409 cubic-inch engine; chrome dashboard and stick shift, two-tone interior; working steering system; all topped of with a factory baked-enamel finish.",
         7869,
         "32.33",
         "80.84"
        ],
        [
         "S32_1268",
         "1980�s GM Manhattan Express",
         "Trucks and Buses",
         "1:32",
         "Motor City Art Classics",
         "This 1980�s era new look Manhattan express is still active, running from the Bronx to mid-town Manhattan. Has 35 opeining windows and working lights. Needs a battery.",
         5099,
         "53.93",
         "96.31"
        ],
        [
         "S32_1374",
         "1997 BMW F650 ST",
         "Motorcycles",
         "1:32",
         "Exoto Designs",
         "Features official die-struck logos and baked enamel finish. Comes with stand.",
         178,
         "66.92",
         "99.89"
        ],
        [
         "S32_2206",
         "1982 Ducati 996 R",
         "Motorcycles",
         "1:32",
         "Gearbox Collectibles",
         "Features rotating wheels , working kick stand. Comes with stand.",
         9241,
         "24.14",
         "40.23"
        ],
        [
         "S32_2509",
         "1954 Greyhound Scenicruiser",
         "Trucks and Buses",
         "1:32",
         "Classic Metal Creations",
         "Model features bi-level seating, 50 windows, skylights & glare resistant glass, working steering system, original logos",
         2874,
         "25.98",
         "54.11"
        ],
        [
         "S32_3207",
         "1950's Chicago Surface Lines Streetcar",
         "Trains",
         "1:32",
         "Gearbox Collectibles",
         "This streetcar is a joy to see. It has 80 separate windows, electric wire guides, detailed interiors with seats, poles and drivers controls, rolling and turning wheel assemblies, plus authentic factory baked-enamel finishes (Green Hornet for Chicago and Cream and Crimson for Boston).",
         8601,
         "26.72",
         "62.14"
        ],
        [
         "S32_3522",
         "1996 Peterbilt 379 Stake Bed with Outrigger",
         "Trucks and Buses",
         "1:32",
         "Red Start Diecast",
         "This model features, opening doors, detailed engine, working steering, tinted windows, detailed interior, die-struck logos, removable stakes operating outriggers, detachable second trailer, functioning 360-degree self loader, precision molded resin trailer and trim, baked enamel finish on cab",
         814,
         "33.61",
         "64.64"
        ],
        [
         "S32_4289",
         "1928 Ford Phaeton Deluxe",
         "Vintage Cars",
         "1:32",
         "Highway 66 Mini Classics",
         "This model features grille-mounted chrome horn, lift-up louvered hood, fold-down rumble seat, working steering system",
         136,
         "33.02",
         "68.79"
        ],
        [
         "S32_4485",
         "1974 Ducati 350 Mk3 Desmo",
         "Motorcycles",
         "1:32",
         "Second Gear Diecast",
         "This model features two-tone paint with chrome accents, superior die-cast detail , rotating wheels , working kick stand",
         3341,
         "56.13",
         "102.05"
        ],
        [
         "S50_1341",
         "1930 Buick Marquette Phaeton",
         "Vintage Cars",
         "1:50",
         "Studio M Art Models",
         "Features opening trunk,  working steering system",
         7062,
         "27.06",
         "43.64"
        ],
        [
         "S50_1392",
         "Diamond T620 Semi-Skirted Tanker",
         "Trucks and Buses",
         "1:50",
         "Highway 66 Mini Classics",
         "This limited edition model is licensed and perfectly scaled for Lionel Trains. The Diamond T620 has been produced in solid precision diecast and painted with a fire baked enamel finish. It comes with a removable tanker and is a perfect model to add authenticity to your static train or car layout or to just have on display.",
         1016,
         "68.29",
         "115.75"
        ],
        [
         "S50_1514",
         "1962 City of Detroit Streetcar",
         "Trains",
         "1:50",
         "Classic Metal Creations",
         "This streetcar is a joy to see. It has 99 separate windows, electric wire guides, detailed interiors with seats, poles and drivers controls, rolling and turning wheel assemblies, plus authentic factory baked-enamel finishes (Green Hornet for Chicago and Cream and Crimson for Boston).",
         1645,
         "37.49",
         "58.58"
        ],
        [
         "S50_4713",
         "2002 Yamaha YZR M1",
         "Motorcycles",
         "1:50",
         "Autoart Studio Design",
         "Features rotating wheels , working kick stand. Comes with stand.",
         600,
         "34.17",
         "81.36"
        ],
        [
         "S700_1138",
         "The Schooner Bluenose",
         "Ships",
         "1:700",
         "Autoart Studio Design",
         "All wood with canvas sails. Measures 31 1/2 inches in Length, 22 inches High and 4 3/4 inches Wide. Many extras.\\r\\nThe schooner Bluenose was built in Nova Scotia in 1921 to fish the rough waters off the coast of Newfoundland. Because of the Bluenose racing prowess she became the pride of all Canadians. Still featured on stamps and the Canadian dime, the Bluenose was lost off Haiti in 1946.",
         1897,
         "34.00",
         "66.67"
        ],
        [
         "S700_1691",
         "American Airlines: B767-300",
         "Planes",
         "1:700",
         "Min Lin Diecast",
         "Exact replia with official logos and insignias and retractable wheels",
         5841,
         "51.15",
         "91.34"
        ],
        [
         "S700_1938",
         "The Mayflower",
         "Ships",
         "1:700",
         "Studio M Art Models",
         "Measures 31 1/2 inches Long x 25 1/2 inches High x 10 5/8 inches Wide\\r\\nAll wood with canvas sail. Extras include long boats, rigging, ladders, railing, anchors, side cannons, hand painted, etc.",
         737,
         "43.30",
         "86.61"
        ],
        [
         "S700_2047",
         "HMS Bounty",
         "Ships",
         "1:700",
         "Unimax Art Galleries",
         "Measures 30 inches Long x 27 1/2 inches High x 4 3/4 inches Wide. \\r\\nMany extras including rigging, long boats, pilot house, anchors, etc. Comes with three masts, all square-rigged.",
         3501,
         "39.83",
         "90.52"
        ],
        [
         "S700_2466",
         "America West Airlines B757-200",
         "Planes",
         "1:700",
         "Motor City Art Classics",
         "Official logos and insignias. Working steering system. Rotating jet engines",
         9653,
         "68.80",
         "99.72"
        ],
        [
         "S700_2610",
         "The USS Constitution Ship",
         "Ships",
         "1:700",
         "Red Start Diecast",
         "All wood with canvas sails. Measures 31 1/2\\\" Length x 22 3/8\\\" High x 8 1/4\\\" Width. Extras include 4 boats on deck, sea sprite on bow, anchors, copper railing, pilot houses, etc.",
         7083,
         "33.97",
         "72.28"
        ],
        [
         "S700_2824",
         "1982 Camaro Z28",
         "Classic Cars",
         "1:18",
         "Carousel DieCast Legends",
         "Features include opening and closing doors. Color: White. \\r\\nMeasures approximately 9 1/2\\\" Long.",
         6934,
         "46.53",
         "101.15"
        ],
        [
         "S700_2834",
         "ATA: B757-300",
         "Planes",
         "1:700",
         "Highway 66 Mini Classics",
         "Exact replia with official logos and insignias and retractable wheels",
         7106,
         "59.33",
         "118.65"
        ],
        [
         "S700_3167",
         "F/A 18 Hornet 1/72",
         "Planes",
         "1:72",
         "Motor City Art Classics",
         "10\\\" Wingspan with retractable landing gears.Comes with pilot",
         551,
         "54.40",
         "80.00"
        ],
        [
         "S700_3505",
         "The Titanic",
         "Ships",
         "1:700",
         "Carousel DieCast Legends",
         "Completed model measures 19 1/2 inches long, 9 inches high, 3inches wide and is in barn red/black. All wood and metal.",
         1956,
         "51.09",
         "100.17"
        ],
        [
         "S700_3962",
         "The Queen Mary",
         "Ships",
         "1:700",
         "Welly Diecast Productions",
         "Exact replica. Wood and Metal. Many extras including rigging, long boats, pilot house, anchors, etc. Comes with three masts, all square-rigged.",
         5088,
         "53.63",
         "99.31"
        ],
        [
         "S700_4002",
         "American Airlines: MD-11S",
         "Planes",
         "1:700",
         "Second Gear Diecast",
         "Polished finish. Exact replia with official logos and insignias and retractable wheels",
         8820,
         "36.27",
         "74.03"
        ],
        [
         "S72_3212",
         "Pont Yacht",
         "Ships",
         "1:72",
         "Unimax Art Galleries",
         "Measures 38 inches Long x 33 3/4 inches High. Includes a stand.\\r\\nMany extras including rigging, long boats, pilot house, anchors, etc. Comes with 2 masts, all square-rigged",
         414,
         "33.30",
         "54.60"
        ]
       ],
       "datasetInfos": [],
       "dbfsResultPath": null,
       "isJsonSchema": true,
       "metadata": {},
       "overflow": false,
       "plotOptions": {
        "customPlotOptions": {},
        "displayType": "table",
        "pivotAggregation": null,
        "pivotColumns": null,
        "xColumns": null,
        "yColumns": null
       },
       "removedWidgets": [],
       "schema": [
        {
         "metadata": "{\"scale\":0}",
         "name": "product_code",
         "type": "\"string\""
        },
        {
         "metadata": "{\"scale\":0}",
         "name": "product_name",
         "type": "\"string\""
        },
        {
         "metadata": "{\"scale\":0}",
         "name": "product_line",
         "type": "\"string\""
        },
        {
         "metadata": "{\"scale\":0}",
         "name": "product_scale",
         "type": "\"string\""
        },
        {
         "metadata": "{\"scale\":0}",
         "name": "product_vendor",
         "type": "\"string\""
        },
        {
         "metadata": "{\"scale\":0}",
         "name": "product_description",
         "type": "\"string\""
        },
        {
         "metadata": "{\"scale\":0}",
         "name": "quantity_in_stock",
         "type": "\"short\""
        },
        {
         "metadata": "{\"scale\":2}",
         "name": "buy_price",
         "type": "\"decimal(10,2)\""
        },
        {
         "metadata": "{\"scale\":2}",
         "name": "msrp",
         "type": "\"decimal(10,2)\""
        }
       ],
       "type": "table"
      }
     },
     "output_type": "display_data"
    }
   ],
   "source": [
    "df = spark.read.load(\"/tmp/delta/products\")\n",
    "display(df)"
   ]
  },
  {
   "cell_type": "code",
   "execution_count": 0,
   "metadata": {
    "application/vnd.databricks.v1+cell": {
     "cellMetadata": {},
     "inputWidgets": {},
     "nuid": "8e49bc4a-e6ae-4159-9056-6f12010a37e2",
     "showTitle": false,
     "title": ""
    }
   },
   "outputs": [],
   "source": []
  }
 ],
 "metadata": {
  "application/vnd.databricks.v1+notebook": {
   "dashboards": [],
   "language": "python",
   "notebookMetadata": {
    "mostRecentlyExecutedCommandWithImplicitDF": {
     "commandId": 4120194890518507,
     "dataframes": [
      "_sqldf"
     ]
    },
    "pythonIndentUnit": 4
   },
   "notebookName": "ERP - Desafio",
   "widgets": {}
  }
 },
 "nbformat": 4,
 "nbformat_minor": 0
}
